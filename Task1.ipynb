{
  "cells": [
    {
      "cell_type": "markdown",
      "metadata": {
        "id": "view-in-github",
        "colab_type": "text"
      },
      "source": [
        "<a href=\"https://colab.research.google.com/github/uzair011/CN5022-AI/blob/main/Task1.ipynb\" target=\"_parent\"><img src=\"https://colab.research.google.com/assets/colab-badge.svg\" alt=\"Open In Colab\"/></a>"
      ]
    },
    {
      "cell_type": "markdown",
      "metadata": {
        "id": "6iMnQu3AIrbk"
      },
      "source": [
        "# <span style=\"color:red\"> Objective: <span>\n",
        "### Demonstrate understanding of dataset given by applying an exploratory data analysis of the dataset.\n"
      ]
    },
    {
      "cell_type": "markdown",
      "metadata": {
        "id": "1Ev7__U_Irbl"
      },
      "source": [
        "# <span style=\"color:red\"> Instructions: <span>\n",
        "\n",
        "### For this task, we will make use of the dataset1.csv in the dataset folder.\n",
        "\n",
        "### Follow the following steps to complete the task:\n"
      ]
    },
    {
      "cell_type": "markdown",
      "metadata": {
        "id": "lliICsVaIrbm"
      },
      "source": [
        "### <span style=\"color:purple\"> a) We Starts the development of the EDA by importing the neccesary libraries for the task:<span>\n",
        "- numpy\n",
        "- pandas for dataframe\n",
        "- matplotlib for graphs\n",
        "- seaborn for advance graphs"
      ]
    },
    {
      "cell_type": "code",
      "execution_count": 1,
      "metadata": {
        "collapsed": true,
        "id": "-LwQKE64Irbm"
      },
      "outputs": [],
      "source": [
        "import numpy as np\n",
        "import pandas as pd\n",
        "import matplotlib.pyplot as plt\n",
        "%matplotlib inline"
      ]
    },
    {
      "cell_type": "markdown",
      "metadata": {
        "id": "xJlButgHIrbm"
      },
      "source": [
        "### <span style=\"color:purple\"> b)\tNow, import dataset1.csv file using the Pandas method, make sure that the dataset is in the same folder as your Task1.ipynb.<span>\n",
        "\n",
        "#### Hints: Read in datatset1.csv file using the pandas read_csv function"
      ]
    },
    {
      "cell_type": "code",
      "execution_count": 5,
      "metadata": {
        "collapsed": true,
        "id": "k_Amfvr_Irbm"
      },
      "outputs": [],
      "source": [
        "dataset = pd.read_csv(\"dataset1.csv\")"
      ]
    },
    {
      "cell_type": "markdown",
      "metadata": {
        "id": "hmvOAMKcIrbm"
      },
      "source": [
        "### <span style=\"color:purple\">  c)\tDisplay the data on the screen. <span>\n",
        "\n",
        "#### i) Display the first 10 rows of the dataset\n",
        "#### ii) Display the last 5 rows of the dataset"
      ]
    },
    {
      "cell_type": "code",
      "execution_count": 4,
      "metadata": {
        "scrolled": false,
        "colab": {
          "base_uri": "https://localhost:8080/"
        },
        "id": "prYK6nReIrbm",
        "outputId": "3de33d17-bcc8-48fb-dd09-66fa772c39c5"
      },
      "outputs": [
        {
          "output_type": "stream",
          "name": "stdout",
          "text": [
            "   Attribute 1  Attribute 2  Class Label (1 or 0)\n",
            "0          4.0           71                     1\n",
            "1          2.2           57                     0\n",
            "2          4.4           86                     1\n",
            "3          4.3           77                     1\n",
            "4          2.0           56                     0\n",
            "5          4.8           81                     1\n",
            "6          1.8           50                     0\n",
            "7          5.5           89                     1\n",
            "8          1.6           54                     0\n",
            "9          4.9           90                     1\n",
            "     Attribute 1  Attribute 2  Class Label (1 or 0)\n",
            "225          1.9           54                     0\n",
            "226          4.4           87                     1\n",
            "227          2.1           52                     0\n",
            "228          4.1           85                     1\n",
            "229          2.1           58                     0\n"
          ]
        }
      ],
      "source": [
        "print(dataset.head(10))\n",
        "print(dataset.tail(5))"
      ]
    },
    {
      "cell_type": "code",
      "execution_count": null,
      "metadata": {
        "collapsed": true,
        "id": "r9xulr1KIrbm"
      },
      "outputs": [],
      "source": []
    },
    {
      "cell_type": "markdown",
      "metadata": {
        "id": "tnACw-j0Irbm"
      },
      "source": [
        "### <span style=\"color:purple\"> d) For each class attribute, compute its minimum, maximum, mean and standard deviation using appropriate python commands. Provide your comments in your code about the structure of the data.<span>"
      ]
    },
    {
      "cell_type": "code",
      "execution_count": 7,
      "metadata": {
        "colab": {
          "base_uri": "https://localhost:8080/"
        },
        "id": "UiCcmI0hIrbm",
        "outputId": "b159d06a-9292-42ca-f5a4-40536332418e"
      },
      "outputs": [
        {
          "output_type": "stream",
          "name": "stdout",
          "text": [
            "\n",
            "Statistics for Attribute 1\n",
            "Minimum: 0.8\n",
            "Maximum: 5.5\n",
            "Mean: 3.487391304347826\n",
            "Standard Deviation: 1.2168996233764875\n",
            "\n",
            "Statistics for Attribute 2\n",
            "Minimum: 43\n",
            "Maximum: 108\n",
            "Mean: 72.15652173913044\n",
            "Standard Deviation: 14.610573012173987\n"
          ]
        }
      ],
      "source": [
        "\n",
        "for attribute in dataset.columns[:-1]:  # Exclude the last column (Class Label)\n",
        "    print(\"\\nStatistics for\", attribute)\n",
        "    print(\"Minimum:\", dataset[attribute].min())\n",
        "    print(\"Maximum:\", dataset[attribute].max())\n",
        "    print(\"Mean:\", dataset[attribute].mean())\n",
        "    print(\"Standard Deviation:\", dataset[attribute].std())"
      ]
    },
    {
      "cell_type": "markdown",
      "metadata": {
        "id": "ABOjCJaAIrbn"
      },
      "source": [
        "### <span style=\"color:purple\"> e)\tGenerate a pairwise scatter plot for the combinations of: Attribute 1 vs Attribute 2. <span>"
      ]
    },
    {
      "cell_type": "code",
      "execution_count": 9,
      "metadata": {
        "colab": {
          "base_uri": "https://localhost:8080/",
          "height": 472
        },
        "id": "soPy2QssIrbn",
        "outputId": "a6cb08cd-c74c-4dcf-eca0-4989c376d5ea"
      },
      "outputs": [
        {
          "output_type": "display_data",
          "data": {
            "text/plain": [
              "<Figure size 640x480 with 1 Axes>"
            ],
            "image/png": "[encoded data removed]"
          },
          "metadata": {}
        }
      ],
      "source": [
        "plt.scatter(dataset['Attribute 1'], dataset['Attribute 2'])\n",
        "plt.xlabel(\"Attribute 1\")\n",
        "plt.ylabel(\"Attribute 2\")\n",
        "plt.title(\"Scatter plot:  Attribute 1 vs Attribute 2\")\n",
        "plt.grid(True)\n",
        "plt.show()\n"
      ]
    },
    {
      "cell_type": "markdown",
      "metadata": {
        "id": "MjEliamtIrbn"
      },
      "source": [
        "### <span style=\"color:purple\">  Question 1: f)\tCan you visually guess whether these attributes are related or not? Give your comments. <span>"
      ]
    },
    {
      "cell_type": "markdown",
      "metadata": {
        "id": "5WUyByd5Irbn"
      },
      "source": []
    },
    {
      "cell_type": "markdown",
      "metadata": {
        "id": "z9PcK5KMIrbn"
      },
      "source": [
        "### <span style=\"color:purple\"> Question 2: g)\tBased on the scatter plot generated in point (f), determine the data points that are the outliers.<span>"
      ]
    },
    {
      "cell_type": "markdown",
      "metadata": {
        "id": "ujDogH2OIrbn"
      },
      "source": []
    },
    {
      "cell_type": "markdown",
      "metadata": {
        "id": "_I6_WjQHIrbn"
      },
      "source": [
        "### <span style=\"color:purple\">  h)\tAdd some comments into the program <span>\n",
        "\n",
        "### <span style=\"color:red\"> i)\tUpload the Task1.html file to Moodle via the submission link"
      ]
    },
    {
      "cell_type": "code",
      "execution_count": null,
      "metadata": {
        "id": "Zrecxk2VIrbn"
      },
      "outputs": [],
      "source": []
    }
  ],
  "metadata": {
    "kernelspec": {
      "display_name": "Python 3 (ipykernel)",
      "language": "python",
      "name": "python3"
    },
    "language_info": {
      "codemirror_mode": {
        "name": "ipython",
        "version": 3
      },
      "file_extension": ".py",
      "mimetype": "text/x-python",
      "name": "python",
      "nbconvert_exporter": "python",
      "pygments_lexer": "ipython3",
      "version": "3.11.5"
    },
    "colab": {
      "provenance": [],
      "include_colab_link": true
    }
  },
  "nbformat": 4,
  "nbformat_minor": 0
}