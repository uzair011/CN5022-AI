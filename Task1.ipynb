{
  "cells": [
    {
      "cell_type": "markdown",
      "metadata": {
        "id": "view-in-github",
        "colab_type": "text"
      },
      "source": [
        "<a href=\"https://colab.research.google.com/github/uzair011/CN5022-AI/blob/main/Task1.ipynb\" target=\"_parent\"><img src=\"https://colab.research.google.com/assets/colab-badge.svg\" alt=\"Open In Colab\"/></a>"
      ]
    },
    {
      "cell_type": "markdown",
      "metadata": {
        "id": "6iMnQu3AIrbk"
      },
      "source": [
        "# <span style=\"color:red\"> Objective: <span>\n",
        "### Demonstrate understanding of dataset given by applying an exploratory data analysis of the dataset.\n"
      ]
    },
    {
      "cell_type": "markdown",
      "metadata": {
        "id": "1Ev7__U_Irbl"
      },
      "source": [
        "# <span style=\"color:red\"> Instructions: <span>\n",
        "\n",
        "### For this task, we will make use of the dataset1.csv in the dataset folder.\n",
        "\n",
        "### Follow the following steps to complete the task:\n"
      ]
    },
    {
      "cell_type": "markdown",
      "metadata": {
        "id": "lliICsVaIrbm"
      },
      "source": [
        "### <span style=\"color:purple\"> a) We Starts the development of the EDA by importing the neccesary libraries for the task:<span>\n",
        "- numpy\n",
        "- pandas for dataframe\n",
        "- matplotlib for graphs\n",
        "- seaborn for advance graphs"
      ]
    },
    {
      "cell_type": "code",
      "execution_count": 1,
      "metadata": {
        "collapsed": true,
        "id": "-LwQKE64Irbm"
      },
      "outputs": [],
      "source": [
        "import numpy as np\n",
        "import pandas as pd\n",
        "import matplotlib.pyplot as plt\n",
        "%matplotlib inline"
      ]
    },
    {
      "cell_type": "markdown",
      "metadata": {
        "id": "xJlButgHIrbm"
      },
      "source": [
        "### <span style=\"color:purple\"> b)\tNow, import dataset1.csv file using the Pandas method, make sure that the dataset is in the same folder as your Task1.ipynb.<span>\n",
        "\n",
        "#### Hints: Read in datatset1.csv file using the pandas read_csv function"
      ]
    },
    {
      "cell_type": "code",
      "execution_count": null,
      "metadata": {
        "collapsed": true,
        "id": "k_Amfvr_Irbm"
      },
      "outputs": [],
      "source": []
    },
    {
      "cell_type": "markdown",
      "metadata": {
        "id": "hmvOAMKcIrbm"
      },
      "source": [
        "### <span style=\"color:purple\">  c)\tDisplay the data on the screen. <span>\n",
        "\n",
        "#### i) Display the first 10 rows of the dataset\n",
        "#### ii) Display the last 5 rows of the dataset"
      ]
    },
    {
      "cell_type": "code",
      "execution_count": null,
      "metadata": {
        "scrolled": false,
        "id": "prYK6nReIrbm"
      },
      "outputs": [],
      "source": []
    },
    {
      "cell_type": "code",
      "execution_count": null,
      "metadata": {
        "collapsed": true,
        "id": "r9xulr1KIrbm"
      },
      "outputs": [],
      "source": []
    },
    {
      "cell_type": "markdown",
      "metadata": {
        "id": "tnACw-j0Irbm"
      },
      "source": [
        "### <span style=\"color:purple\"> d) For each class attribute, compute its minimum, maximum, mean and standard deviation using appropriate python commands. Provide your comments in your code about the structure of the data.<span>"
      ]
    },
    {
      "cell_type": "code",
      "execution_count": null,
      "metadata": {
        "id": "UiCcmI0hIrbm"
      },
      "outputs": [],
      "source": [
        "# add comments using the # symbol at the front\n"
      ]
    },
    {
      "cell_type": "markdown",
      "metadata": {
        "id": "ABOjCJaAIrbn"
      },
      "source": [
        "### <span style=\"color:purple\"> e)\tGenerate a pairwise scatter plot for the combinations of: Attribute 1 vs Attribute 2. <span>"
      ]
    },
    {
      "cell_type": "code",
      "execution_count": null,
      "metadata": {
        "id": "soPy2QssIrbn"
      },
      "outputs": [],
      "source": []
    },
    {
      "cell_type": "markdown",
      "metadata": {
        "id": "MjEliamtIrbn"
      },
      "source": [
        "### <span style=\"color:purple\">  Question 1: f)\tCan you visually guess whether these attributes are related or not? Give your comments. <span>"
      ]
    },
    {
      "cell_type": "markdown",
      "metadata": {
        "id": "5WUyByd5Irbn"
      },
      "source": []
    },
    {
      "cell_type": "markdown",
      "metadata": {
        "id": "z9PcK5KMIrbn"
      },
      "source": [
        "### <span style=\"color:purple\"> Question 2: g)\tBased on the scatter plot generated in point (f), determine the data points that are the outliers.<span>"
      ]
    },
    {
      "cell_type": "markdown",
      "metadata": {
        "id": "ujDogH2OIrbn"
      },
      "source": []
    },
    {
      "cell_type": "markdown",
      "metadata": {
        "id": "_I6_WjQHIrbn"
      },
      "source": [
        "### <span style=\"color:purple\">  h)\tAdd some comments into the program <span>\n",
        "\n",
        "### <span style=\"color:red\"> i)\tUpload the Task1.html file to Moodle via the submission link"
      ]
    },
    {
      "cell_type": "code",
      "execution_count": null,
      "metadata": {
        "id": "Zrecxk2VIrbn"
      },
      "outputs": [],
      "source": []
    }
  ],
  "metadata": {
    "kernelspec": {
      "display_name": "Python 3 (ipykernel)",
      "language": "python",
      "name": "python3"
    },
    "language_info": {
      "codemirror_mode": {
        "name": "ipython",
        "version": 3
      },
      "file_extension": ".py",
      "mimetype": "text/x-python",
      "name": "python",
      "nbconvert_exporter": "python",
      "pygments_lexer": "ipython3",
      "version": "3.11.5"
    },
    "colab": {
      "provenance": [],
      "include_colab_link": true
    }
  },
  "nbformat": 4,
  "nbformat_minor": 0
}