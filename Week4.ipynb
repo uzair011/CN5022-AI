{
  "cells": [
    {
      "cell_type": "markdown",
      "metadata": {
        "id": "view-in-github",
        "colab_type": "text"
      },
      "source": [
        "<a href=\"https://colab.research.google.com/github/uzair011/CN5022-AI/blob/main/Week4.ipynb\" target=\"_parent\"><img src=\"https://colab.research.google.com/assets/colab-badge.svg\" alt=\"Open In Colab\"/></a>"
      ]
    },
    {
      "cell_type": "markdown",
      "metadata": {
        "id": "uK7WmuvsLWm5"
      },
      "source": [
        "# <span style=\"color:red\"> Objective: <span>\n",
        "Understanding the multiple linear regression algorithm by constructing a multiple linear regression model for a dataset. Analyse the results and provide comments and conclusions."
      ]
    },
    {
      "cell_type": "markdown",
      "metadata": {
        "id": "5zCWat42LWm6"
      },
      "source": [
        "# <span style=\"color:red\"> Instructions: <span>\n",
        "For this task, we will make use of the 50_startups.csv\n",
        "\n",
        "#### **50_startups.csv**\n",
        "\n",
        "This dataset consists of 4 features (independent variable), **R&D spend**, **Administration**, **Marketing Spend** and one label (dependent variable), **Profit**. Depending on features, the dataset provides the corresponding profits"
      ]
    },
    {
      "cell_type": "markdown",
      "metadata": {
        "id": "0Pwf6YMZLWm6"
      },
      "source": [
        "### <span style=\"color:purple\"> a) Load the necessary libraries for the task<span>\n",
        "\n",
        "Notes: In this task, we will make use of the following libraries:\n",
        "1. numpy\n",
        "2. pandas\n",
        "3. matplotlib"
      ]
    },
    {
      "cell_type": "code",
      "execution_count": null,
      "metadata": {
        "id": "5tIMmHk7LWm6"
      },
      "outputs": [],
      "source": [
        "# import library for the notebook\n",
        "import numpy as np\n",
        "import pandas as pd\n",
        "import matplotlib.pyplot as plt\n",
        "%matplotlib inline"
      ]
    },
    {
      "cell_type": "code",
      "execution_count": null,
      "metadata": {
        "colab": {
          "base_uri": "https://localhost:8080/",
          "height": 206
        },
        "id": "bxaYI5byLWm7",
        "outputId": "b4fb8f54-3933-49c1-fa7b-f1db8fb839c0"
      },
      "outputs": [
        {
          "output_type": "execute_result",
          "data": {
            "text/plain": [
              "   R&D Spend  Administration  Marketing Spend     Profit\n",
              "0  165349.20       136897.80        471784.10  192261.83\n",
              "1  162597.70       151377.59        443898.53  191792.06\n",
              "2  153441.51       101145.55        407934.54  191050.39\n",
              "3  144372.41       118671.85        383199.62  182901.99\n",
              "4  142107.34        91391.77        366168.42  166187.94"
            ],
            "text/html": [
              "\n",
              "  <div id=\"df-9cee3866-78d1-4607-8c88-4c39879b82d1\" class=\"colab-df-container\">\n",
              "    <div>\n",
              "<style scoped>\n",
              "    .dataframe tbody tr th:only-of-type {\n",
              "        vertical-align: middle;\n",
              "    }\n",
              "\n",
              "    .dataframe tbody tr th {\n",
              "        vertical-align: top;\n",
              "    }\n",
              "\n",
              "    .dataframe thead th {\n",
              "        text-align: right;\n",
              "    }\n",
              "</style>\n",
              "<table border=\"1\" class=\"dataframe\">\n",
              "  <thead>\n",
              "    <tr style=\"text-align: right;\">\n",
              "      <th></th>\n",
              "      <th>R&amp;D Spend</th>\n",
              "      <th>Administration</th>\n",
              "      <th>Marketing Spend</th>\n",
              "      <th>Profit</th>\n",
              "    </tr>\n",
              "  </thead>\n",
              "  <tbody>\n",
              "    <tr>\n",
              "      <th>0</th>\n",
              "      <td>165349.20</td>\n",
              "      <td>136897.80</td>\n",
              "      <td>471784.10</td>\n",
              "      <td>192261.83</td>\n",
              "    </tr>\n",
              "    <tr>\n",
              "      <th>1</th>\n",
              "      <td>162597.70</td>\n",
              "      <td>151377.59</td>\n",
              "      <td>443898.53</td>\n",
              "      <td>191792.06</td>\n",
              "    </tr>\n",
              "    <tr>\n",
              "      <th>2</th>\n",
              "      <td>153441.51</td>\n",
              "      <td>101145.55</td>\n",
              "      <td>407934.54</td>\n",
              "      <td>191050.39</td>\n",
              "    </tr>\n",
              "    <tr>\n",
              "      <th>3</th>\n",
              "      <td>144372.41</td>\n",
              "      <td>118671.85</td>\n",
              "      <td>383199.62</td>\n",
              "      <td>182901.99</td>\n",
              "    </tr>\n",
              "    <tr>\n",
              "      <th>4</th>\n",
              "      <td>142107.34</td>\n",
              "      <td>91391.77</td>\n",
              "      <td>366168.42</td>\n",
              "      <td>166187.94</td>\n",
              "    </tr>\n",
              "  </tbody>\n",
              "</table>\n",
              "</div>\n",
              "    <div class=\"colab-df-buttons\">\n",
              "\n",
              "  <div class=\"colab-df-container\">\n",
              "    <button class=\"colab-df-convert\" onclick=\"convertToInteractive('df-9cee3866-78d1-4607-8c88-4c39879b82d1')\"\n",
              "            title=\"Convert this dataframe to an interactive table.\"\n",
              "            style=\"display:none;\">\n",
              "\n",
              "  <svg xmlns=\"http://www.w3.org/2000/svg\" height=\"24px\" viewBox=\"0 -960 960 960\">\n",
              "    <path d=\"M120-120v-720h720v720H120Zm60-500h600v-160H180v160Zm220 220h160v-160H400v160Zm0 220h160v-160H400v160ZM180-400h160v-160H180v160Zm440 0h160v-160H620v160ZM180-180h160v-160H180v160Zm440 0h160v-160H620v160Z\"/>\n",
              "  </svg>\n",
              "    </button>\n",
              "\n",
              "  <style>\n",
              "    .colab-df-container {\n",
              "      display:flex;\n",
              "      gap: 12px;\n",
              "    }\n",
              "\n",
              "    .colab-df-convert {\n",
              "      background-color: #E8F0FE;\n",
              "      border: none;\n",
              "      border-radius: 50%;\n",
              "      cursor: pointer;\n",
              "      display: none;\n",
              "      fill: #1967D2;\n",
              "      height: 32px;\n",
              "      padding: 0 0 0 0;\n",
              "      width: 32px;\n",
              "    }\n",
              "\n",
              "    .colab-df-convert:hover {\n",
              "      background-color: #E2EBFA;\n",
              "      box-shadow: 0px 1px 2px rgba(60, 64, 67, 0.3), 0px 1px 3px 1px rgba(60, 64, 67, 0.15);\n",
              "      fill: #174EA6;\n",
              "    }\n",
              "\n",
              "    .colab-df-buttons div {\n",
              "      margin-bottom: 4px;\n",
              "    }\n",
              "\n",
              "    [theme=dark] .colab-df-convert {\n",
              "      background-color: #3B4455;\n",
              "      fill: #D2E3FC;\n",
              "    }\n",
              "\n",
              "    [theme=dark] .colab-df-convert:hover {\n",
              "      background-color: #434B5C;\n",
              "      box-shadow: 0px 1px 3px 1px rgba(0, 0, 0, 0.15);\n",
              "      filter: drop-shadow(0px 1px 2px rgba(0, 0, 0, 0.3));\n",
              "      fill: #FFFFFF;\n",
              "    }\n",
              "  </style>\n",
              "\n",
              "    <script>\n",
              "      const buttonEl =\n",
              "        document.querySelector('#df-9cee3866-78d1-4607-8c88-4c39879b82d1 button.colab-df-convert');\n",
              "      buttonEl.style.display =\n",
              "        google.colab.kernel.accessAllowed ? 'block' : 'none';\n",
              "\n",
              "      async function convertToInteractive(key) {\n",
              "        const element = document.querySelector('#df-9cee3866-78d1-4607-8c88-4c39879b82d1');\n",
              "        const dataTable =\n",
              "          await google.colab.kernel.invokeFunction('convertToInteractive',\n",
              "                                                    [key], {});\n",
              "        if (!dataTable) return;\n",
              "\n",
              "        const docLinkHtml = 'Like what you see? Visit the ' +\n",
              "          '<a target=\"_blank\" href=https://colab.research.google.com/notebooks/data_table.ipynb>data table notebook</a>'\n",
              "          + ' to learn more about interactive tables.';\n",
              "        element.innerHTML = '';\n",
              "        dataTable['output_type'] = 'display_data';\n",
              "        await google.colab.output.renderOutput(dataTable, element);\n",
              "        const docLink = document.createElement('div');\n",
              "        docLink.innerHTML = docLinkHtml;\n",
              "        element.appendChild(docLink);\n",
              "      }\n",
              "    </script>\n",
              "  </div>\n",
              "\n",
              "\n",
              "<div id=\"df-22d08266-62ae-429c-aa50-c7353827ce0b\">\n",
              "  <button class=\"colab-df-quickchart\" onclick=\"quickchart('df-22d08266-62ae-429c-aa50-c7353827ce0b')\"\n",
              "            title=\"Suggest charts\"\n",
              "            style=\"display:none;\">\n",
              "\n",
              "<svg xmlns=\"http://www.w3.org/2000/svg\" height=\"24px\"viewBox=\"0 0 24 24\"\n",
              "     width=\"24px\">\n",
              "    <g>\n",
              "        <path d=\"M19 3H5c-1.1 0-2 .9-2 2v14c0 1.1.9 2 2 2h14c1.1 0 2-.9 2-2V5c0-1.1-.9-2-2-2zM9 17H7v-7h2v7zm4 0h-2V7h2v10zm4 0h-2v-4h2v4z\"/>\n",
              "    </g>\n",
              "</svg>\n",
              "  </button>\n",
              "\n",
              "<style>\n",
              "  .colab-df-quickchart {\n",
              "      --bg-color: #E8F0FE;\n",
              "      --fill-color: #1967D2;\n",
              "      --hover-bg-color: #E2EBFA;\n",
              "      --hover-fill-color: #174EA6;\n",
              "      --disabled-fill-color: #AAA;\n",
              "      --disabled-bg-color: #DDD;\n",
              "  }\n",
              "\n",
              "  [theme=dark] .colab-df-quickchart {\n",
              "      --bg-color: #3B4455;\n",
              "      --fill-color: #D2E3FC;\n",
              "      --hover-bg-color: #434B5C;\n",
              "      --hover-fill-color: #FFFFFF;\n",
              "      --disabled-bg-color: #3B4455;\n",
              "      --disabled-fill-color: #666;\n",
              "  }\n",
              "\n",
              "  .colab-df-quickchart {\n",
              "    background-color: var(--bg-color);\n",
              "    border: none;\n",
              "    border-radius: 50%;\n",
              "    cursor: pointer;\n",
              "    display: none;\n",
              "    fill: var(--fill-color);\n",
              "    height: 32px;\n",
              "    padding: 0;\n",
              "    width: 32px;\n",
              "  }\n",
              "\n",
              "  .colab-df-quickchart:hover {\n",
              "    background-color: var(--hover-bg-color);\n",
              "    box-shadow: 0 1px 2px rgba(60, 64, 67, 0.3), 0 1px 3px 1px rgba(60, 64, 67, 0.15);\n",
              "    fill: var(--button-hover-fill-color);\n",
              "  }\n",
              "\n",
              "  .colab-df-quickchart-complete:disabled,\n",
              "  .colab-df-quickchart-complete:disabled:hover {\n",
              "    background-color: var(--disabled-bg-color);\n",
              "    fill: var(--disabled-fill-color);\n",
              "    box-shadow: none;\n",
              "  }\n",
              "\n",
              "  .colab-df-spinner {\n",
              "    border: 2px solid var(--fill-color);\n",
              "    border-color: transparent;\n",
              "    border-bottom-color: var(--fill-color);\n",
              "    animation:\n",
              "      spin 1s steps(1) infinite;\n",
              "  }\n",
              "\n",
              "  @keyframes spin {\n",
              "    0% {\n",
              "      border-color: transparent;\n",
              "      border-bottom-color: var(--fill-color);\n",
              "      border-left-color: var(--fill-color);\n",
              "    }\n",
              "    20% {\n",
              "      border-color: transparent;\n",
              "      border-left-color: var(--fill-color);\n",
              "      border-top-color: var(--fill-color);\n",
              "    }\n",
              "    30% {\n",
              "      border-color: transparent;\n",
              "      border-left-color: var(--fill-color);\n",
              "      border-top-color: var(--fill-color);\n",
              "      border-right-color: var(--fill-color);\n",
              "    }\n",
              "    40% {\n",
              "      border-color: transparent;\n",
              "      border-right-color: var(--fill-color);\n",
              "      border-top-color: var(--fill-color);\n",
              "    }\n",
              "    60% {\n",
              "      border-color: transparent;\n",
              "      border-right-color: var(--fill-color);\n",
              "    }\n",
              "    80% {\n",
              "      border-color: transparent;\n",
              "      border-right-color: var(--fill-color);\n",
              "      border-bottom-color: var(--fill-color);\n",
              "    }\n",
              "    90% {\n",
              "      border-color: transparent;\n",
              "      border-bottom-color: var(--fill-color);\n",
              "    }\n",
              "  }\n",
              "</style>\n",
              "\n",
              "  <script>\n",
              "    async function quickchart(key) {\n",
              "      const quickchartButtonEl =\n",
              "        document.querySelector('#' + key + ' button');\n",
              "      quickchartButtonEl.disabled = true;  // To prevent multiple clicks.\n",
              "      quickchartButtonEl.classList.add('colab-df-spinner');\n",
              "      try {\n",
              "        const charts = await google.colab.kernel.invokeFunction(\n",
              "            'suggestCharts', [key], {});\n",
              "      } catch (error) {\n",
              "        console.error('Error during call to suggestCharts:', error);\n",
              "      }\n",
              "      quickchartButtonEl.classList.remove('colab-df-spinner');\n",
              "      quickchartButtonEl.classList.add('colab-df-quickchart-complete');\n",
              "    }\n",
              "    (() => {\n",
              "      let quickchartButtonEl =\n",
              "        document.querySelector('#df-22d08266-62ae-429c-aa50-c7353827ce0b button');\n",
              "      quickchartButtonEl.style.display =\n",
              "        google.colab.kernel.accessAllowed ? 'block' : 'none';\n",
              "    })();\n",
              "  </script>\n",
              "</div>\n",
              "    </div>\n",
              "  </div>\n"
            ],
            "application/vnd.google.colaboratory.intrinsic+json": {
              "type": "dataframe",
              "variable_name": "dataset",
              "summary": "{\n  \"name\": \"dataset\",\n  \"rows\": 50,\n  \"fields\": [\n    {\n      \"column\": \"R&D Spend\",\n      \"properties\": {\n        \"dtype\": \"number\",\n        \"std\": 45902.25648230753,\n        \"min\": 0.0,\n        \"max\": 165349.2,\n        \"num_unique_values\": 49,\n        \"samples\": [\n          91992.39,\n          1000.23,\n          0.0\n        ],\n        \"semantic_type\": \"\",\n        \"description\": \"\"\n      }\n    },\n    {\n      \"column\": \"Administration\",\n      \"properties\": {\n        \"dtype\": \"number\",\n        \"std\": 28017.802755488683,\n        \"min\": 51283.14,\n        \"max\": 182645.56,\n        \"num_unique_values\": 50,\n        \"samples\": [\n          135495.07,\n          82982.09,\n          115641.28\n        ],\n        \"semantic_type\": \"\",\n        \"description\": \"\"\n      }\n    },\n    {\n      \"column\": \"Marketing Spend\",\n      \"properties\": {\n        \"dtype\": \"number\",\n        \"std\": 122290.31072584528,\n        \"min\": 0.0,\n        \"max\": 471784.1,\n        \"num_unique_values\": 48,\n        \"samples\": [\n          353183.81,\n          172795.67,\n          134050.07\n        ],\n        \"semantic_type\": \"\",\n        \"description\": \"\"\n      }\n    },\n    {\n      \"column\": \"Profit\",\n      \"properties\": {\n        \"dtype\": \"number\",\n        \"std\": 40306.18033765055,\n        \"min\": 14681.4,\n        \"max\": 192261.83,\n        \"num_unique_values\": 50,\n        \"samples\": [\n          134307.35,\n          81005.76,\n          99937.59\n        ],\n        \"semantic_type\": \"\",\n        \"description\": \"\"\n      }\n    }\n  ]\n}"
            }
          },
          "metadata": {},
          "execution_count": 2
        }
      ],
      "source": [
        "# read in the dataset\n",
        "dataset =  pd.read_csv('50_startups.csv')\n",
        "dataset.head() # inspect the dataset"
      ]
    },
    {
      "cell_type": "markdown",
      "metadata": {
        "id": "BnD6ZrbYLWm7"
      },
      "source": [
        "### <span style=\"color:purple\"> c) Split the dataset into X, the independent variable and y, the dependent variable / label <span>"
      ]
    },
    {
      "cell_type": "code",
      "execution_count": null,
      "metadata": {
        "id": "LoBod2jvLWm7"
      },
      "outputs": [],
      "source": [
        "# spliting the dataset into X,  the independent variable and y\n",
        "# put your code here\n",
        "\n",
        "X = dataset.iloc[:, :-1].values # all the row, all the colum except the last column (-1)\n",
        "y = dataset.iloc[:, -1].values  # the last column"
      ]
    },
    {
      "cell_type": "code",
      "execution_count": null,
      "metadata": {
        "colab": {
          "base_uri": "https://localhost:8080/"
        },
        "id": "6Jd8pq6aLWm7",
        "outputId": "f76301ce-cf78-4a5f-9ff5-2fb97b092737"
      },
      "outputs": [
        {
          "output_type": "execute_result",
          "data": {
            "text/plain": [
              "array([[165349.2 , 136897.8 , 471784.1 ],\n",
              "       [162597.7 , 151377.59, 443898.53],\n",
              "       [153441.51, 101145.55, 407934.54],\n",
              "       [144372.41, 118671.85, 383199.62],\n",
              "       [142107.34,  91391.77, 366168.42],\n",
              "       [131876.9 ,  99814.71, 362861.36],\n",
              "       [134615.46, 147198.87, 127716.82],\n",
              "       [130298.13, 145530.06, 323876.68],\n",
              "       [120542.52, 148718.95, 311613.29],\n",
              "       [123334.88, 108679.17, 304981.62],\n",
              "       [101913.08, 110594.11, 229160.95],\n",
              "       [100671.96,  91790.61, 249744.55],\n",
              "       [ 93863.75, 127320.38, 249839.44],\n",
              "       [ 91992.39, 135495.07, 252664.93],\n",
              "       [119943.24, 156547.42, 256512.92],\n",
              "       [114523.61, 122616.84, 261776.23],\n",
              "       [ 78013.11, 121597.55, 264346.06],\n",
              "       [ 94657.16, 145077.58, 282574.31],\n",
              "       [ 91749.16, 114175.79, 294919.57],\n",
              "       [ 86419.7 , 153514.11,      0.  ],\n",
              "       [ 76253.86, 113867.3 , 298664.47],\n",
              "       [ 78389.47, 153773.43, 299737.29],\n",
              "       [ 73994.56, 122782.75, 303319.26],\n",
              "       [ 67532.53, 105751.03, 304768.73],\n",
              "       [ 77044.01,  99281.34, 140574.81],\n",
              "       [ 64664.71, 139553.16, 137962.62],\n",
              "       [ 75328.87, 144135.98, 134050.07],\n",
              "       [ 72107.6 , 127864.55, 353183.81],\n",
              "       [ 66051.52, 182645.56, 118148.2 ],\n",
              "       [ 65605.48, 153032.06, 107138.38],\n",
              "       [ 61994.48, 115641.28,  91131.24],\n",
              "       [ 61136.38, 152701.92,  88218.23],\n",
              "       [ 63408.86, 129219.61,  46085.25],\n",
              "       [ 55493.95, 103057.49, 214634.81],\n",
              "       [ 46426.07, 157693.92, 210797.67],\n",
              "       [ 46014.02,  85047.44, 205517.64],\n",
              "       [ 28663.76, 127056.21, 201126.82],\n",
              "       [ 44069.95,  51283.14, 197029.42],\n",
              "       [ 20229.59,  65947.93, 185265.1 ],\n",
              "       [ 38558.51,  82982.09, 174999.3 ],\n",
              "       [ 28754.33, 118546.05, 172795.67],\n",
              "       [ 27892.92,  84710.77, 164470.71],\n",
              "       [ 23640.93,  96189.63, 148001.11],\n",
              "       [ 15505.73, 127382.3 ,  35534.17],\n",
              "       [ 22177.74, 154806.14,  28334.72],\n",
              "       [  1000.23, 124153.04,   1903.93],\n",
              "       [  1315.46, 115816.21, 297114.46],\n",
              "       [     0.  , 135426.92,      0.  ],\n",
              "       [   542.05,  51743.15,      0.  ],\n",
              "       [     0.  , 116983.8 ,  45173.06]])"
            ]
          },
          "metadata": {},
          "execution_count": 4
        }
      ],
      "source": [
        "# display the independent variable\n",
        "X"
      ]
    },
    {
      "cell_type": "code",
      "execution_count": null,
      "metadata": {
        "colab": {
          "base_uri": "https://localhost:8080/"
        },
        "id": "zzohAuqYLWm7",
        "outputId": "cafb7ac5-0f74-40fd-a0cc-73ad17cb2395"
      },
      "outputs": [
        {
          "output_type": "execute_result",
          "data": {
            "text/plain": [
              "array([192261.83, 191792.06, 191050.39, 182901.99, 166187.94, 156991.12,\n",
              "       156122.51, 155752.6 , 152211.77, 149759.96, 146121.95, 144259.4 ,\n",
              "       141585.52, 134307.35, 132602.65, 129917.04, 126992.93, 125370.37,\n",
              "       124266.9 , 122776.86, 118474.03, 111313.02, 110352.25, 108733.99,\n",
              "       108552.04, 107404.34, 105733.54, 105008.31, 103282.38, 101004.64,\n",
              "        99937.59,  97483.56,  97427.84,  96778.92,  96712.8 ,  96479.51,\n",
              "        90708.19,  89949.14,  81229.06,  81005.76,  78239.91,  77798.83,\n",
              "        71498.49,  69758.98,  65200.33,  64926.08,  49490.75,  42559.73,\n",
              "        35673.41,  14681.4 ])"
            ]
          },
          "metadata": {},
          "execution_count": 5
        }
      ],
      "source": [
        "# display the dependent variable\n",
        "y"
      ]
    },
    {
      "cell_type": "markdown",
      "metadata": {
        "id": "X-SYAAA7LWm7"
      },
      "source": [
        "### <span style=\"color:purple\"> d) Split the X and y into training and test set using method in sklearn package. <span>"
      ]
    },
    {
      "cell_type": "code",
      "execution_count": null,
      "metadata": {
        "id": "uw4TV714LWm7"
      },
      "outputs": [],
      "source": [
        "# split X and Y into training and testing set using method\n",
        "# put your code here\n",
        "\n",
        "from sklearn.model_selection import train_test_split\n",
        "X_train, X_test, y_train, y_test = train_test_split(X, y, test_size = 1/3, random_state = 0)\n",
        "# test data is 1.3 of the dataset, random_state to fix the process of the implementation to allow similar input splits"
      ]
    },
    {
      "cell_type": "markdown",
      "metadata": {
        "id": "8f3B-57KLWm7"
      },
      "source": [
        "### <span style=\"color:purple\"> e) Generate a linear regression model, called regressor, using the training set <span>\n",
        "**(Hints: Use the LinearRegression class in the sklearn.linear_model package)**"
      ]
    },
    {
      "cell_type": "code",
      "execution_count": null,
      "metadata": {
        "colab": {
          "base_uri": "https://localhost:8080/",
          "height": 74
        },
        "id": "Z9nVZjP6LWm7",
        "outputId": "060749fc-eb5f-4736-ff95-7d8866841ce8"
      },
      "outputs": [
        {
          "output_type": "execute_result",
          "data": {
            "text/plain": [
              "LinearRegression()"
            ],
            "text/html": [
              "<style>#sk-container-id-1 {color: black;background-color: white;}#sk-container-id-1 pre{padding: 0;}#sk-container-id-1 div.sk-toggleable {background-color: white;}#sk-container-id-1 label.sk-toggleable__label {cursor: pointer;display: block;width: 100%;margin-bottom: 0;padding: 0.3em;box-sizing: border-box;text-align: center;}#sk-container-id-1 label.sk-toggleable__label-arrow:before {content: \"▸\";float: left;margin-right: 0.25em;color: #696969;}#sk-container-id-1 label.sk-toggleable__label-arrow:hover:before {color: black;}#sk-container-id-1 div.sk-estimator:hover label.sk-toggleable__label-arrow:before {color: black;}#sk-container-id-1 div.sk-toggleable__content {max-height: 0;max-width: 0;overflow: hidden;text-align: left;background-color: #f0f8ff;}#sk-container-id-1 div.sk-toggleable__content pre {margin: 0.2em;color: black;border-radius: 0.25em;background-color: #f0f8ff;}#sk-container-id-1 input.sk-toggleable__control:checked~div.sk-toggleable__content {max-height: 200px;max-width: 100%;overflow: auto;}#sk-container-id-1 input.sk-toggleable__control:checked~label.sk-toggleable__label-arrow:before {content: \"▾\";}#sk-container-id-1 div.sk-estimator input.sk-toggleable__control:checked~label.sk-toggleable__label {background-color: #d4ebff;}#sk-container-id-1 div.sk-label input.sk-toggleable__control:checked~label.sk-toggleable__label {background-color: #d4ebff;}#sk-container-id-1 input.sk-hidden--visually {border: 0;clip: rect(1px 1px 1px 1px);clip: rect(1px, 1px, 1px, 1px);height: 1px;margin: -1px;overflow: hidden;padding: 0;position: absolute;width: 1px;}#sk-container-id-1 div.sk-estimator {font-family: monospace;background-color: #f0f8ff;border: 1px dotted black;border-radius: 0.25em;box-sizing: border-box;margin-bottom: 0.5em;}#sk-container-id-1 div.sk-estimator:hover {background-color: #d4ebff;}#sk-container-id-1 div.sk-parallel-item::after {content: \"\";width: 100%;border-bottom: 1px solid gray;flex-grow: 1;}#sk-container-id-1 div.sk-label:hover label.sk-toggleable__label {background-color: #d4ebff;}#sk-container-id-1 div.sk-serial::before {content: \"\";position: absolute;border-left: 1px solid gray;box-sizing: border-box;top: 0;bottom: 0;left: 50%;z-index: 0;}#sk-container-id-1 div.sk-serial {display: flex;flex-direction: column;align-items: center;background-color: white;padding-right: 0.2em;padding-left: 0.2em;position: relative;}#sk-container-id-1 div.sk-item {position: relative;z-index: 1;}#sk-container-id-1 div.sk-parallel {display: flex;align-items: stretch;justify-content: center;background-color: white;position: relative;}#sk-container-id-1 div.sk-item::before, #sk-container-id-1 div.sk-parallel-item::before {content: \"\";position: absolute;border-left: 1px solid gray;box-sizing: border-box;top: 0;bottom: 0;left: 50%;z-index: -1;}#sk-container-id-1 div.sk-parallel-item {display: flex;flex-direction: column;z-index: 1;position: relative;background-color: white;}#sk-container-id-1 div.sk-parallel-item:first-child::after {align-self: flex-end;width: 50%;}#sk-container-id-1 div.sk-parallel-item:last-child::after {align-self: flex-start;width: 50%;}#sk-container-id-1 div.sk-parallel-item:only-child::after {width: 0;}#sk-container-id-1 div.sk-dashed-wrapped {border: 1px dashed gray;margin: 0 0.4em 0.5em 0.4em;box-sizing: border-box;padding-bottom: 0.4em;background-color: white;}#sk-container-id-1 div.sk-label label {font-family: monospace;font-weight: bold;display: inline-block;line-height: 1.2em;}#sk-container-id-1 div.sk-label-container {text-align: center;}#sk-container-id-1 div.sk-container {/* jupyter's `normalize.less` sets `[hidden] { display: none; }` but bootstrap.min.css set `[hidden] { display: none !important; }` so we also need the `!important` here to be able to override the default hidden behavior on the sphinx rendered scikit-learn.org. See: https://github.com/scikit-learn/scikit-learn/issues/21755 */display: inline-block !important;position: relative;}#sk-container-id-1 div.sk-text-repr-fallback {display: none;}</style><div id=\"sk-container-id-1\" class=\"sk-top-container\"><div class=\"sk-text-repr-fallback\"><pre>LinearRegression()</pre><b>In a Jupyter environment, please rerun this cell to show the HTML representation or trust the notebook. <br />On GitHub, the HTML representation is unable to render, please try loading this page with nbviewer.org.</b></div><div class=\"sk-container\" hidden><div class=\"sk-item\"><div class=\"sk-estimator sk-toggleable\"><input class=\"sk-toggleable__control sk-hidden--visually\" id=\"sk-estimator-id-1\" type=\"checkbox\" checked><label for=\"sk-estimator-id-1\" class=\"sk-toggleable__label sk-toggleable__label-arrow\">LinearRegression</label><div class=\"sk-toggleable__content\"><pre>LinearRegression()</pre></div></div></div></div></div>"
            ]
          },
          "metadata": {},
          "execution_count": 7
        }
      ],
      "source": [
        "# generate linear regression model\n",
        "# put your code here\n",
        "\n",
        "from sklearn.linear_model import LinearRegression\n",
        "LR = LinearRegression()\n",
        "LR.fit(X_train, y_train)"
      ]
    },
    {
      "cell_type": "markdown",
      "metadata": {
        "id": "R79ltma9LWm7"
      },
      "source": [
        "### <span style=\"color:purple\">f) Predict the test set results <span>"
      ]
    },
    {
      "cell_type": "code",
      "execution_count": null,
      "metadata": {
        "id": "CbqvT29MLWm7"
      },
      "outputs": [],
      "source": [
        "# predit test set result\n",
        "# put your code here\n",
        "\n",
        "y_pred = LR.predict(X_test)"
      ]
    },
    {
      "cell_type": "code",
      "execution_count": null,
      "metadata": {
        "scrolled": true,
        "colab": {
          "base_uri": "https://localhost:8080/"
        },
        "id": "-wklDMQ0LWm7",
        "outputId": "520ae7e7-754c-4768-cf13-d97978fcbae7"
      },
      "outputs": [
        {
          "output_type": "execute_result",
          "data": {
            "text/plain": [
              "array([[ 66051.52, 182645.56, 118148.2 ],\n",
              "       [100671.96,  91790.61, 249744.55],\n",
              "       [101913.08, 110594.11, 229160.95],\n",
              "       [ 27892.92,  84710.77, 164470.71],\n",
              "       [153441.51, 101145.55, 407934.54],\n",
              "       [ 72107.6 , 127864.55, 353183.81],\n",
              "       [ 20229.59,  65947.93, 185265.1 ],\n",
              "       [ 61136.38, 152701.92,  88218.23],\n",
              "       [ 73994.56, 122782.75, 303319.26],\n",
              "       [142107.34,  91391.77, 366168.42],\n",
              "       [ 55493.95, 103057.49, 214634.81],\n",
              "       [ 46014.02,  85047.44, 205517.64],\n",
              "       [ 75328.87, 144135.98, 134050.07],\n",
              "       [ 46426.07, 157693.92, 210797.67],\n",
              "       [ 91749.16, 114175.79, 294919.57],\n",
              "       [130298.13, 145530.06, 323876.68],\n",
              "       [119943.24, 156547.42, 256512.92]])"
            ]
          },
          "metadata": {},
          "execution_count": 9
        }
      ],
      "source": [
        "X_test"
      ]
    },
    {
      "cell_type": "code",
      "execution_count": null,
      "metadata": {
        "colab": {
          "base_uri": "https://localhost:8080/"
        },
        "id": "KXt4_cq1LWm7",
        "outputId": "22454194-c44f-40ba-f572-229c321565b7"
      },
      "outputs": [
        {
          "output_type": "execute_result",
          "data": {
            "text/plain": [
              "array([106297.59966882, 132926.07997436, 134362.77842228,  71519.46921658,\n",
              "       180650.71715655, 115248.2571595 ,  64939.68480136,  99726.11825428,\n",
              "       114940.23331478, 169718.80610512,  96249.07005881,  87336.2065521 ,\n",
              "       112030.13596157,  91975.69916321, 128433.62518338, 162036.7231283 ,\n",
              "       152289.76520475])"
            ]
          },
          "metadata": {},
          "execution_count": 10
        }
      ],
      "source": [
        "y_pred"
      ]
    },
    {
      "cell_type": "code",
      "execution_count": null,
      "metadata": {
        "colab": {
          "base_uri": "https://localhost:8080/"
        },
        "id": "yQh-tLnHLWm7",
        "outputId": "6c7f090b-09b0-4867-9003-e1d274c789f5"
      },
      "outputs": [
        {
          "output_type": "execute_result",
          "data": {
            "text/plain": [
              "array([103282.38, 144259.4 , 146121.95,  77798.83, 191050.39, 105008.31,\n",
              "        81229.06,  97483.56, 110352.25, 166187.94,  96778.92,  96479.51,\n",
              "       105733.54,  96712.8 , 124266.9 , 155752.6 , 132602.65])"
            ]
          },
          "metadata": {},
          "execution_count": 11
        }
      ],
      "source": [
        "y_test"
      ]
    },
    {
      "cell_type": "markdown",
      "metadata": {
        "id": "wsYK5VQeLWm7"
      },
      "source": [
        "### <span style=\"color:purple\">The model performance R^2<span>"
      ]
    },
    {
      "cell_type": "code",
      "execution_count": null,
      "metadata": {
        "id": "npMCDGH-LWm7"
      },
      "outputs": [],
      "source": [
        "print('Train Score: ', LR.score(X_train, y_train)*100, \"%\")\n",
        "print('Test Score: ', LR.score(X_test, y_test)*100, \"%\")"
      ]
    },
    {
      "cell_type": "markdown",
      "metadata": {
        "id": "VINvGAK3LWm7"
      },
      "source": [
        "### <span style=\"color:purple\">The equation of the regression model<span>"
      ]
    },
    {
      "cell_type": "code",
      "execution_count": null,
      "metadata": {
        "colab": {
          "base_uri": "https://localhost:8080/"
        },
        "id": "HtckPVoCLWm7",
        "outputId": "cc458e55-9075-4cfa-cc58-51327362e78a"
      },
      "outputs": [
        {
          "output_type": "stream",
          "name": "stdout",
          "text": [
            "The coeficients:  [0.80219763 0.05708141 0.03071646]\n"
          ]
        }
      ],
      "source": [
        "print(\"The coeficients: \", LR.coef_)"
      ]
    },
    {
      "cell_type": "code",
      "execution_count": null,
      "metadata": {
        "colab": {
          "base_uri": "https://localhost:8080/"
        },
        "id": "ho9shpHmLWm7",
        "outputId": "bca394c1-2fb3-4052-931f-0b6bd28cc0cf"
      },
      "outputs": [
        {
          "output_type": "stream",
          "name": "stdout",
          "text": [
            "The y-intercept:  39256.467337726426\n"
          ]
        }
      ],
      "source": [
        "print(\"The y-intercept: \", LR.intercept_)"
      ]
    },
    {
      "cell_type": "markdown",
      "metadata": {
        "id": "mqSzEqHgLWm8"
      },
      "source": [
        "![image.png](attachment:image.png)"
      ]
    },
    {
      "cell_type": "markdown",
      "metadata": {
        "id": "K6evRhGeLWm8"
      },
      "source": [
        "![image.png](attachment:image.png)"
      ]
    },
    {
      "cell_type": "markdown",
      "metadata": {
        "id": "sL-Xs-5lLWm8"
      },
      "source": [
        "Resources from: https://www.javahabit.com/2019/02/10/part-5-ml-mltr-backward-elimination/"
      ]
    },
    {
      "cell_type": "markdown",
      "metadata": {
        "id": "A-AaLQYRLWm8"
      },
      "source": [
        "### <span style=\"color:purple\">Step 2: Create a MLR model using all the features / independent variables<span>\n",
        "### <span style=\"color:purple\">Step 3: If p-value > 0.05, then go to step 4<span>"
      ]
    },
    {
      "cell_type": "code",
      "execution_count": null,
      "metadata": {
        "scrolled": true,
        "colab": {
          "base_uri": "https://localhost:8080/"
        },
        "id": "Ehxr41zmLWm8",
        "outputId": "669da2e7-6d9c-49d3-f8e9-e25ebf1b0eec"
      },
      "outputs": [
        {
          "output_type": "execute_result",
          "data": {
            "text/plain": [
              "array([[1.0000000e+00, 1.6534920e+05, 1.3689780e+05, 4.7178410e+05],\n",
              "       [1.0000000e+00, 1.6259770e+05, 1.5137759e+05, 4.4389853e+05],\n",
              "       [1.0000000e+00, 1.5344151e+05, 1.0114555e+05, 4.0793454e+05],\n",
              "       [1.0000000e+00, 1.4437241e+05, 1.1867185e+05, 3.8319962e+05],\n",
              "       [1.0000000e+00, 1.4210734e+05, 9.1391770e+04, 3.6616842e+05],\n",
              "       [1.0000000e+00, 1.3187690e+05, 9.9814710e+04, 3.6286136e+05],\n",
              "       [1.0000000e+00, 1.3461546e+05, 1.4719887e+05, 1.2771682e+05],\n",
              "       [1.0000000e+00, 1.3029813e+05, 1.4553006e+05, 3.2387668e+05],\n",
              "       [1.0000000e+00, 1.2054252e+05, 1.4871895e+05, 3.1161329e+05],\n",
              "       [1.0000000e+00, 1.2333488e+05, 1.0867917e+05, 3.0498162e+05],\n",
              "       [1.0000000e+00, 1.0191308e+05, 1.1059411e+05, 2.2916095e+05],\n",
              "       [1.0000000e+00, 1.0067196e+05, 9.1790610e+04, 2.4974455e+05],\n",
              "       [1.0000000e+00, 9.3863750e+04, 1.2732038e+05, 2.4983944e+05],\n",
              "       [1.0000000e+00, 9.1992390e+04, 1.3549507e+05, 2.5266493e+05],\n",
              "       [1.0000000e+00, 1.1994324e+05, 1.5654742e+05, 2.5651292e+05],\n",
              "       [1.0000000e+00, 1.1452361e+05, 1.2261684e+05, 2.6177623e+05],\n",
              "       [1.0000000e+00, 7.8013110e+04, 1.2159755e+05, 2.6434606e+05],\n",
              "       [1.0000000e+00, 9.4657160e+04, 1.4507758e+05, 2.8257431e+05],\n",
              "       [1.0000000e+00, 9.1749160e+04, 1.1417579e+05, 2.9491957e+05],\n",
              "       [1.0000000e+00, 8.6419700e+04, 1.5351411e+05, 0.0000000e+00],\n",
              "       [1.0000000e+00, 7.6253860e+04, 1.1386730e+05, 2.9866447e+05],\n",
              "       [1.0000000e+00, 7.8389470e+04, 1.5377343e+05, 2.9973729e+05],\n",
              "       [1.0000000e+00, 7.3994560e+04, 1.2278275e+05, 3.0331926e+05],\n",
              "       [1.0000000e+00, 6.7532530e+04, 1.0575103e+05, 3.0476873e+05],\n",
              "       [1.0000000e+00, 7.7044010e+04, 9.9281340e+04, 1.4057481e+05],\n",
              "       [1.0000000e+00, 6.4664710e+04, 1.3955316e+05, 1.3796262e+05],\n",
              "       [1.0000000e+00, 7.5328870e+04, 1.4413598e+05, 1.3405007e+05],\n",
              "       [1.0000000e+00, 7.2107600e+04, 1.2786455e+05, 3.5318381e+05],\n",
              "       [1.0000000e+00, 6.6051520e+04, 1.8264556e+05, 1.1814820e+05],\n",
              "       [1.0000000e+00, 6.5605480e+04, 1.5303206e+05, 1.0713838e+05],\n",
              "       [1.0000000e+00, 6.1994480e+04, 1.1564128e+05, 9.1131240e+04],\n",
              "       [1.0000000e+00, 6.1136380e+04, 1.5270192e+05, 8.8218230e+04],\n",
              "       [1.0000000e+00, 6.3408860e+04, 1.2921961e+05, 4.6085250e+04],\n",
              "       [1.0000000e+00, 5.5493950e+04, 1.0305749e+05, 2.1463481e+05],\n",
              "       [1.0000000e+00, 4.6426070e+04, 1.5769392e+05, 2.1079767e+05],\n",
              "       [1.0000000e+00, 4.6014020e+04, 8.5047440e+04, 2.0551764e+05],\n",
              "       [1.0000000e+00, 2.8663760e+04, 1.2705621e+05, 2.0112682e+05],\n",
              "       [1.0000000e+00, 4.4069950e+04, 5.1283140e+04, 1.9702942e+05],\n",
              "       [1.0000000e+00, 2.0229590e+04, 6.5947930e+04, 1.8526510e+05],\n",
              "       [1.0000000e+00, 3.8558510e+04, 8.2982090e+04, 1.7499930e+05],\n",
              "       [1.0000000e+00, 2.8754330e+04, 1.1854605e+05, 1.7279567e+05],\n",
              "       [1.0000000e+00, 2.7892920e+04, 8.4710770e+04, 1.6447071e+05],\n",
              "       [1.0000000e+00, 2.3640930e+04, 9.6189630e+04, 1.4800111e+05],\n",
              "       [1.0000000e+00, 1.5505730e+04, 1.2738230e+05, 3.5534170e+04],\n",
              "       [1.0000000e+00, 2.2177740e+04, 1.5480614e+05, 2.8334720e+04],\n",
              "       [1.0000000e+00, 1.0002300e+03, 1.2415304e+05, 1.9039300e+03],\n",
              "       [1.0000000e+00, 1.3154600e+03, 1.1581621e+05, 2.9711446e+05],\n",
              "       [1.0000000e+00, 0.0000000e+00, 1.3542692e+05, 0.0000000e+00],\n",
              "       [1.0000000e+00, 5.4205000e+02, 5.1743150e+04, 0.0000000e+00],\n",
              "       [1.0000000e+00, 0.0000000e+00, 1.1698380e+05, 4.5173060e+04]])"
            ]
          },
          "metadata": {},
          "execution_count": 14
        }
      ],
      "source": [
        "import statsmodels.api as sm\n",
        "X_opt = X[:, [0,1,2]]\n",
        "X_opt = sm.add_constant(X)\n",
        "X_opt"
      ]
    },
    {
      "cell_type": "code",
      "execution_count": null,
      "metadata": {
        "colab": {
          "base_uri": "https://localhost:8080/",
          "height": 522
        },
        "id": "ICNsNeX1LWm8",
        "outputId": "870a7745-502a-454b-b6ea-26b624e692d8"
      },
      "outputs": [
        {
          "output_type": "execute_result",
          "data": {
            "text/plain": [
              "<class 'statsmodels.iolib.summary.Summary'>\n",
              "\"\"\"\n",
              "                            OLS Regression Results                            \n",
              "==============================================================================\n",
              "Dep. Variable:                      y   R-squared:                       0.951\n",
              "Model:                            OLS   Adj. R-squared:                  0.948\n",
              "Method:                 Least Squares   F-statistic:                     296.0\n",
              "Date:                Thu, 22 Feb 2024   Prob (F-statistic):           4.53e-30\n",
              "Time:                        14:43:10   Log-Likelihood:                -525.39\n",
              "No. Observations:                  50   AIC:                             1059.\n",
              "Df Residuals:                      46   BIC:                             1066.\n",
              "Df Model:                           3                                         \n",
              "Covariance Type:            nonrobust                                         \n",
              "===================================================================================\n",
              "                      coef    std err          t      P>|t|      [0.025      0.975]\n",
              "-----------------------------------------------------------------------------------\n",
              "constant         5.012e+04   6572.353      7.626      0.000    3.69e+04    6.34e+04\n",
              "R&D spend           0.8057      0.045     17.846      0.000       0.715       0.897\n",
              "Administration     -0.0268      0.051     -0.526      0.602      -0.130       0.076\n",
              "Marketing Spend     0.0272      0.016      1.655      0.105      -0.006       0.060\n",
              "==============================================================================\n",
              "Omnibus:                       14.838   Durbin-Watson:                   1.282\n",
              "Prob(Omnibus):                  0.001   Jarque-Bera (JB):               21.442\n",
              "Skew:                          -0.949   Prob(JB):                     2.21e-05\n",
              "Kurtosis:                       5.586   Cond. No.                     1.40e+06\n",
              "==============================================================================\n",
              "\n",
              "Notes:\n",
              "[1] Standard Errors assume that the covariance matrix of the errors is correctly specified.\n",
              "[2] The condition number is large, 1.4e+06. This might indicate that there are\n",
              "strong multicollinearity or other numerical problems.\n",
              "\"\"\""
            ],
            "text/html": [
              "<table class=\"simpletable\">\n",
              "<caption>OLS Regression Results</caption>\n",
              "<tr>\n",
              "  <th>Dep. Variable:</th>            <td>y</td>        <th>  R-squared:         </th> <td>   0.951</td>\n",
              "</tr>\n",
              "<tr>\n",
              "  <th>Model:</th>                   <td>OLS</td>       <th>  Adj. R-squared:    </th> <td>   0.948</td>\n",
              "</tr>\n",
              "<tr>\n",
              "  <th>Method:</th>             <td>Least Squares</td>  <th>  F-statistic:       </th> <td>   296.0</td>\n",
              "</tr>\n",
              "<tr>\n",
              "  <th>Date:</th>             <td>Thu, 22 Feb 2024</td> <th>  Prob (F-statistic):</th> <td>4.53e-30</td>\n",
              "</tr>\n",
              "<tr>\n",
              "  <th>Time:</th>                 <td>14:43:10</td>     <th>  Log-Likelihood:    </th> <td> -525.39</td>\n",
              "</tr>\n",
              "<tr>\n",
              "  <th>No. Observations:</th>      <td>    50</td>      <th>  AIC:               </th> <td>   1059.</td>\n",
              "</tr>\n",
              "<tr>\n",
              "  <th>Df Residuals:</th>          <td>    46</td>      <th>  BIC:               </th> <td>   1066.</td>\n",
              "</tr>\n",
              "<tr>\n",
              "  <th>Df Model:</th>              <td>     3</td>      <th>                     </th>     <td> </td>   \n",
              "</tr>\n",
              "<tr>\n",
              "  <th>Covariance Type:</th>      <td>nonrobust</td>    <th>                     </th>     <td> </td>   \n",
              "</tr>\n",
              "</table>\n",
              "<table class=\"simpletable\">\n",
              "<tr>\n",
              "         <td></td>            <th>coef</th>     <th>std err</th>      <th>t</th>      <th>P>|t|</th>  <th>[0.025</th>    <th>0.975]</th>  \n",
              "</tr>\n",
              "<tr>\n",
              "  <th>constant</th>        <td> 5.012e+04</td> <td> 6572.353</td> <td>    7.626</td> <td> 0.000</td> <td> 3.69e+04</td> <td> 6.34e+04</td>\n",
              "</tr>\n",
              "<tr>\n",
              "  <th>R&D spend</th>       <td>    0.8057</td> <td>    0.045</td> <td>   17.846</td> <td> 0.000</td> <td>    0.715</td> <td>    0.897</td>\n",
              "</tr>\n",
              "<tr>\n",
              "  <th>Administration</th>  <td>   -0.0268</td> <td>    0.051</td> <td>   -0.526</td> <td> 0.602</td> <td>   -0.130</td> <td>    0.076</td>\n",
              "</tr>\n",
              "<tr>\n",
              "  <th>Marketing Spend</th> <td>    0.0272</td> <td>    0.016</td> <td>    1.655</td> <td> 0.105</td> <td>   -0.006</td> <td>    0.060</td>\n",
              "</tr>\n",
              "</table>\n",
              "<table class=\"simpletable\">\n",
              "<tr>\n",
              "  <th>Omnibus:</th>       <td>14.838</td> <th>  Durbin-Watson:     </th> <td>   1.282</td>\n",
              "</tr>\n",
              "<tr>\n",
              "  <th>Prob(Omnibus):</th> <td> 0.001</td> <th>  Jarque-Bera (JB):  </th> <td>  21.442</td>\n",
              "</tr>\n",
              "<tr>\n",
              "  <th>Skew:</th>          <td>-0.949</td> <th>  Prob(JB):          </th> <td>2.21e-05</td>\n",
              "</tr>\n",
              "<tr>\n",
              "  <th>Kurtosis:</th>      <td> 5.586</td> <th>  Cond. No.          </th> <td>1.40e+06</td>\n",
              "</tr>\n",
              "</table><br/><br/>Notes:<br/>[1] Standard Errors assume that the covariance matrix of the errors is correctly specified.<br/>[2] The condition number is large, 1.4e+06. This might indicate that there are<br/>strong multicollinearity or other numerical problems."
            ],
            "text/latex": "\\begin{center}\n\\begin{tabular}{lclc}\n\\toprule\n\\textbf{Dep. Variable:}    &        y         & \\textbf{  R-squared:         } &     0.951   \\\\\n\\textbf{Model:}            &       OLS        & \\textbf{  Adj. R-squared:    } &     0.948   \\\\\n\\textbf{Method:}           &  Least Squares   & \\textbf{  F-statistic:       } &     296.0   \\\\\n\\textbf{Date:}             & Thu, 22 Feb 2024 & \\textbf{  Prob (F-statistic):} &  4.53e-30   \\\\\n\\textbf{Time:}             &     14:43:10     & \\textbf{  Log-Likelihood:    } &   -525.39   \\\\\n\\textbf{No. Observations:} &          50      & \\textbf{  AIC:               } &     1059.   \\\\\n\\textbf{Df Residuals:}     &          46      & \\textbf{  BIC:               } &     1066.   \\\\\n\\textbf{Df Model:}         &           3      & \\textbf{                     } &             \\\\\n\\textbf{Covariance Type:}  &    nonrobust     & \\textbf{                     } &             \\\\\n\\bottomrule\n\\end{tabular}\n\\begin{tabular}{lcccccc}\n                         & \\textbf{coef} & \\textbf{std err} & \\textbf{t} & \\textbf{P$> |$t$|$} & \\textbf{[0.025} & \\textbf{0.975]}  \\\\\n\\midrule\n\\textbf{constant}        &    5.012e+04  &     6572.353     &     7.626  &         0.000        &     3.69e+04    &     6.34e+04     \\\\\n\\textbf{R\\&D spend}      &       0.8057  &        0.045     &    17.846  &         0.000        &        0.715    &        0.897     \\\\\n\\textbf{Administration}  &      -0.0268  &        0.051     &    -0.526  &         0.602        &       -0.130    &        0.076     \\\\\n\\textbf{Marketing Spend} &       0.0272  &        0.016     &     1.655  &         0.105        &       -0.006    &        0.060     \\\\\n\\bottomrule\n\\end{tabular}\n\\begin{tabular}{lclc}\n\\textbf{Omnibus:}       & 14.838 & \\textbf{  Durbin-Watson:     } &    1.282  \\\\\n\\textbf{Prob(Omnibus):} &  0.001 & \\textbf{  Jarque-Bera (JB):  } &   21.442  \\\\\n\\textbf{Skew:}          & -0.949 & \\textbf{  Prob(JB):          } & 2.21e-05  \\\\\n\\textbf{Kurtosis:}      &  5.586 & \\textbf{  Cond. No.          } & 1.40e+06  \\\\\n\\bottomrule\n\\end{tabular}\n%\\caption{OLS Regression Results}\n\\end{center}\n\nNotes: \\newline\n [1] Standard Errors assume that the covariance matrix of the errors is correctly specified. \\newline\n [2] The condition number is large, 1.4e+06. This might indicate that there are \\newline\n strong multicollinearity or other numerical problems."
          },
          "metadata": {},
          "execution_count": 15
        }
      ],
      "source": [
        "MLR_ols = sm.OLS(y, X_opt).fit()\n",
        "MLR_ols.summary(xname=['constant','R&D spend', 'Administration', 'Marketing Spend'])"
      ]
    },
    {
      "cell_type": "markdown",
      "metadata": {
        "id": "wD9nhBdxLWm8"
      },
      "source": [
        "![image.png](attachment:image.png)\n",
        "![image.png](attachment:image.png)\n",
        "![image.png](attachment:image.png)\n",
        "![image.png](attachment:image.png)\n",
        "\n",
        "Resources from: https://www.datarobot.com/blog/ordinary-least-squares-in-python/"
      ]
    },
    {
      "cell_type": "markdown",
      "metadata": {
        "id": "nd8dfz_FLWm8"
      },
      "source": [
        "### <span style=\"color:purple\">Step 4: Remove the variable and rebuild the model<span>"
      ]
    },
    {
      "cell_type": "code",
      "execution_count": null,
      "metadata": {
        "colab": {
          "base_uri": "https://localhost:8080/"
        },
        "id": "2BWUP2kbLWm8",
        "outputId": "df947eb7-7bf4-490d-a842-c4ddc3d15921"
      },
      "outputs": [
        {
          "output_type": "execute_result",
          "data": {
            "text/plain": [
              "array([[1.0000000e+00, 1.6534920e+05, 4.7178410e+05],\n",
              "       [1.0000000e+00, 1.6259770e+05, 4.4389853e+05],\n",
              "       [1.0000000e+00, 1.5344151e+05, 4.0793454e+05],\n",
              "       [1.0000000e+00, 1.4437241e+05, 3.8319962e+05],\n",
              "       [1.0000000e+00, 1.4210734e+05, 3.6616842e+05],\n",
              "       [1.0000000e+00, 1.3187690e+05, 3.6286136e+05],\n",
              "       [1.0000000e+00, 1.3461546e+05, 1.2771682e+05],\n",
              "       [1.0000000e+00, 1.3029813e+05, 3.2387668e+05],\n",
              "       [1.0000000e+00, 1.2054252e+05, 3.1161329e+05],\n",
              "       [1.0000000e+00, 1.2333488e+05, 3.0498162e+05],\n",
              "       [1.0000000e+00, 1.0191308e+05, 2.2916095e+05],\n",
              "       [1.0000000e+00, 1.0067196e+05, 2.4974455e+05],\n",
              "       [1.0000000e+00, 9.3863750e+04, 2.4983944e+05],\n",
              "       [1.0000000e+00, 9.1992390e+04, 2.5266493e+05],\n",
              "       [1.0000000e+00, 1.1994324e+05, 2.5651292e+05],\n",
              "       [1.0000000e+00, 1.1452361e+05, 2.6177623e+05],\n",
              "       [1.0000000e+00, 7.8013110e+04, 2.6434606e+05],\n",
              "       [1.0000000e+00, 9.4657160e+04, 2.8257431e+05],\n",
              "       [1.0000000e+00, 9.1749160e+04, 2.9491957e+05],\n",
              "       [1.0000000e+00, 8.6419700e+04, 0.0000000e+00],\n",
              "       [1.0000000e+00, 7.6253860e+04, 2.9866447e+05],\n",
              "       [1.0000000e+00, 7.8389470e+04, 2.9973729e+05],\n",
              "       [1.0000000e+00, 7.3994560e+04, 3.0331926e+05],\n",
              "       [1.0000000e+00, 6.7532530e+04, 3.0476873e+05],\n",
              "       [1.0000000e+00, 7.7044010e+04, 1.4057481e+05],\n",
              "       [1.0000000e+00, 6.4664710e+04, 1.3796262e+05],\n",
              "       [1.0000000e+00, 7.5328870e+04, 1.3405007e+05],\n",
              "       [1.0000000e+00, 7.2107600e+04, 3.5318381e+05],\n",
              "       [1.0000000e+00, 6.6051520e+04, 1.1814820e+05],\n",
              "       [1.0000000e+00, 6.5605480e+04, 1.0713838e+05],\n",
              "       [1.0000000e+00, 6.1994480e+04, 9.1131240e+04],\n",
              "       [1.0000000e+00, 6.1136380e+04, 8.8218230e+04],\n",
              "       [1.0000000e+00, 6.3408860e+04, 4.6085250e+04],\n",
              "       [1.0000000e+00, 5.5493950e+04, 2.1463481e+05],\n",
              "       [1.0000000e+00, 4.6426070e+04, 2.1079767e+05],\n",
              "       [1.0000000e+00, 4.6014020e+04, 2.0551764e+05],\n",
              "       [1.0000000e+00, 2.8663760e+04, 2.0112682e+05],\n",
              "       [1.0000000e+00, 4.4069950e+04, 1.9702942e+05],\n",
              "       [1.0000000e+00, 2.0229590e+04, 1.8526510e+05],\n",
              "       [1.0000000e+00, 3.8558510e+04, 1.7499930e+05],\n",
              "       [1.0000000e+00, 2.8754330e+04, 1.7279567e+05],\n",
              "       [1.0000000e+00, 2.7892920e+04, 1.6447071e+05],\n",
              "       [1.0000000e+00, 2.3640930e+04, 1.4800111e+05],\n",
              "       [1.0000000e+00, 1.5505730e+04, 3.5534170e+04],\n",
              "       [1.0000000e+00, 2.2177740e+04, 2.8334720e+04],\n",
              "       [1.0000000e+00, 1.0002300e+03, 1.9039300e+03],\n",
              "       [1.0000000e+00, 1.3154600e+03, 2.9711446e+05],\n",
              "       [1.0000000e+00, 0.0000000e+00, 0.0000000e+00],\n",
              "       [1.0000000e+00, 5.4205000e+02, 0.0000000e+00],\n",
              "       [1.0000000e+00, 0.0000000e+00, 4.5173060e+04]])"
            ]
          },
          "metadata": {},
          "execution_count": 16
        }
      ],
      "source": [
        "X_opt=X[:,[0,2]]\n",
        "X_opt = sm.add_constant(X_opt)\n",
        "X_opt"
      ]
    },
    {
      "cell_type": "code",
      "execution_count": null,
      "metadata": {
        "colab": {
          "base_uri": "https://localhost:8080/",
          "height": 501
        },
        "id": "raf17Ht-LWm8",
        "outputId": "f3b5cb79-74bd-4b16-fe66-bac084325ff2"
      },
      "outputs": [
        {
          "output_type": "execute_result",
          "data": {
            "text/plain": [
              "<class 'statsmodels.iolib.summary.Summary'>\n",
              "\"\"\"\n",
              "                            OLS Regression Results                            \n",
              "==============================================================================\n",
              "Dep. Variable:                      y   R-squared:                       0.950\n",
              "Model:                            OLS   Adj. R-squared:                  0.948\n",
              "Method:                 Least Squares   F-statistic:                     450.8\n",
              "Date:                Thu, 22 Feb 2024   Prob (F-statistic):           2.16e-31\n",
              "Time:                        14:43:10   Log-Likelihood:                -525.54\n",
              "No. Observations:                  50   AIC:                             1057.\n",
              "Df Residuals:                      47   BIC:                             1063.\n",
              "Df Model:                           2                                         \n",
              "Covariance Type:            nonrobust                                         \n",
              "===================================================================================\n",
              "                      coef    std err          t      P>|t|      [0.025      0.975]\n",
              "-----------------------------------------------------------------------------------\n",
              "constant         4.698e+04   2689.933     17.464      0.000    4.16e+04    5.24e+04\n",
              "R&D spend           0.7966      0.041     19.266      0.000       0.713       0.880\n",
              "Marketing Spend     0.0299      0.016      1.927      0.060      -0.001       0.061\n",
              "==============================================================================\n",
              "Omnibus:                       14.677   Durbin-Watson:                   1.257\n",
              "Prob(Omnibus):                  0.001   Jarque-Bera (JB):               21.161\n",
              "Skew:                          -0.939   Prob(JB):                     2.54e-05\n",
              "Kurtosis:                       5.575   Cond. No.                     5.32e+05\n",
              "==============================================================================\n",
              "\n",
              "Notes:\n",
              "[1] Standard Errors assume that the covariance matrix of the errors is correctly specified.\n",
              "[2] The condition number is large, 5.32e+05. This might indicate that there are\n",
              "strong multicollinearity or other numerical problems.\n",
              "\"\"\""
            ],
            "text/html": [
              "<table class=\"simpletable\">\n",
              "<caption>OLS Regression Results</caption>\n",
              "<tr>\n",
              "  <th>Dep. Variable:</th>            <td>y</td>        <th>  R-squared:         </th> <td>   0.950</td>\n",
              "</tr>\n",
              "<tr>\n",
              "  <th>Model:</th>                   <td>OLS</td>       <th>  Adj. R-squared:    </th> <td>   0.948</td>\n",
              "</tr>\n",
              "<tr>\n",
              "  <th>Method:</th>             <td>Least Squares</td>  <th>  F-statistic:       </th> <td>   450.8</td>\n",
              "</tr>\n",
              "<tr>\n",
              "  <th>Date:</th>             <td>Thu, 22 Feb 2024</td> <th>  Prob (F-statistic):</th> <td>2.16e-31</td>\n",
              "</tr>\n",
              "<tr>\n",
              "  <th>Time:</th>                 <td>14:43:10</td>     <th>  Log-Likelihood:    </th> <td> -525.54</td>\n",
              "</tr>\n",
              "<tr>\n",
              "  <th>No. Observations:</th>      <td>    50</td>      <th>  AIC:               </th> <td>   1057.</td>\n",
              "</tr>\n",
              "<tr>\n",
              "  <th>Df Residuals:</th>          <td>    47</td>      <th>  BIC:               </th> <td>   1063.</td>\n",
              "</tr>\n",
              "<tr>\n",
              "  <th>Df Model:</th>              <td>     2</td>      <th>                     </th>     <td> </td>   \n",
              "</tr>\n",
              "<tr>\n",
              "  <th>Covariance Type:</th>      <td>nonrobust</td>    <th>                     </th>     <td> </td>   \n",
              "</tr>\n",
              "</table>\n",
              "<table class=\"simpletable\">\n",
              "<tr>\n",
              "         <td></td>            <th>coef</th>     <th>std err</th>      <th>t</th>      <th>P>|t|</th>  <th>[0.025</th>    <th>0.975]</th>  \n",
              "</tr>\n",
              "<tr>\n",
              "  <th>constant</th>        <td> 4.698e+04</td> <td> 2689.933</td> <td>   17.464</td> <td> 0.000</td> <td> 4.16e+04</td> <td> 5.24e+04</td>\n",
              "</tr>\n",
              "<tr>\n",
              "  <th>R&D spend</th>       <td>    0.7966</td> <td>    0.041</td> <td>   19.266</td> <td> 0.000</td> <td>    0.713</td> <td>    0.880</td>\n",
              "</tr>\n",
              "<tr>\n",
              "  <th>Marketing Spend</th> <td>    0.0299</td> <td>    0.016</td> <td>    1.927</td> <td> 0.060</td> <td>   -0.001</td> <td>    0.061</td>\n",
              "</tr>\n",
              "</table>\n",
              "<table class=\"simpletable\">\n",
              "<tr>\n",
              "  <th>Omnibus:</th>       <td>14.677</td> <th>  Durbin-Watson:     </th> <td>   1.257</td>\n",
              "</tr>\n",
              "<tr>\n",
              "  <th>Prob(Omnibus):</th> <td> 0.001</td> <th>  Jarque-Bera (JB):  </th> <td>  21.161</td>\n",
              "</tr>\n",
              "<tr>\n",
              "  <th>Skew:</th>          <td>-0.939</td> <th>  Prob(JB):          </th> <td>2.54e-05</td>\n",
              "</tr>\n",
              "<tr>\n",
              "  <th>Kurtosis:</th>      <td> 5.575</td> <th>  Cond. No.          </th> <td>5.32e+05</td>\n",
              "</tr>\n",
              "</table><br/><br/>Notes:<br/>[1] Standard Errors assume that the covariance matrix of the errors is correctly specified.<br/>[2] The condition number is large, 5.32e+05. This might indicate that there are<br/>strong multicollinearity or other numerical problems."
            ],
            "text/latex": "\\begin{center}\n\\begin{tabular}{lclc}\n\\toprule\n\\textbf{Dep. Variable:}    &        y         & \\textbf{  R-squared:         } &     0.950   \\\\\n\\textbf{Model:}            &       OLS        & \\textbf{  Adj. R-squared:    } &     0.948   \\\\\n\\textbf{Method:}           &  Least Squares   & \\textbf{  F-statistic:       } &     450.8   \\\\\n\\textbf{Date:}             & Thu, 22 Feb 2024 & \\textbf{  Prob (F-statistic):} &  2.16e-31   \\\\\n\\textbf{Time:}             &     14:43:10     & \\textbf{  Log-Likelihood:    } &   -525.54   \\\\\n\\textbf{No. Observations:} &          50      & \\textbf{  AIC:               } &     1057.   \\\\\n\\textbf{Df Residuals:}     &          47      & \\textbf{  BIC:               } &     1063.   \\\\\n\\textbf{Df Model:}         &           2      & \\textbf{                     } &             \\\\\n\\textbf{Covariance Type:}  &    nonrobust     & \\textbf{                     } &             \\\\\n\\bottomrule\n\\end{tabular}\n\\begin{tabular}{lcccccc}\n                         & \\textbf{coef} & \\textbf{std err} & \\textbf{t} & \\textbf{P$> |$t$|$} & \\textbf{[0.025} & \\textbf{0.975]}  \\\\\n\\midrule\n\\textbf{constant}        &    4.698e+04  &     2689.933     &    17.464  &         0.000        &     4.16e+04    &     5.24e+04     \\\\\n\\textbf{R\\&D spend}      &       0.7966  &        0.041     &    19.266  &         0.000        &        0.713    &        0.880     \\\\\n\\textbf{Marketing Spend} &       0.0299  &        0.016     &     1.927  &         0.060        &       -0.001    &        0.061     \\\\\n\\bottomrule\n\\end{tabular}\n\\begin{tabular}{lclc}\n\\textbf{Omnibus:}       & 14.677 & \\textbf{  Durbin-Watson:     } &    1.257  \\\\\n\\textbf{Prob(Omnibus):} &  0.001 & \\textbf{  Jarque-Bera (JB):  } &   21.161  \\\\\n\\textbf{Skew:}          & -0.939 & \\textbf{  Prob(JB):          } & 2.54e-05  \\\\\n\\textbf{Kurtosis:}      &  5.575 & \\textbf{  Cond. No.          } & 5.32e+05  \\\\\n\\bottomrule\n\\end{tabular}\n%\\caption{OLS Regression Results}\n\\end{center}\n\nNotes: \\newline\n [1] Standard Errors assume that the covariance matrix of the errors is correctly specified. \\newline\n [2] The condition number is large, 5.32e+05. This might indicate that there are \\newline\n strong multicollinearity or other numerical problems."
          },
          "metadata": {},
          "execution_count": 17
        }
      ],
      "source": [
        "MLR_ols = sm.OLS(y, X_opt).fit()\n",
        "MLR_ols.summary(xname=['constant','R&D spend', 'Marketing Spend'])"
      ]
    },
    {
      "cell_type": "markdown",
      "metadata": {
        "id": "4UZ0gJJXLWm8"
      },
      "source": [
        "### <span style=\"color:purple\">Step 3: If p-value > 0.05, remove the variable and rebuild the model </span>"
      ]
    },
    {
      "cell_type": "code",
      "execution_count": null,
      "metadata": {
        "colab": {
          "base_uri": "https://localhost:8080/"
        },
        "id": "uGxk0w2cLWm8",
        "outputId": "a74c2cff-985d-4202-bc5c-647de172d0bb"
      },
      "outputs": [
        {
          "output_type": "execute_result",
          "data": {
            "text/plain": [
              "array([[1.0000000e+00, 1.6534920e+05],\n",
              "       [1.0000000e+00, 1.6259770e+05],\n",
              "       [1.0000000e+00, 1.5344151e+05],\n",
              "       [1.0000000e+00, 1.4437241e+05],\n",
              "       [1.0000000e+00, 1.4210734e+05],\n",
              "       [1.0000000e+00, 1.3187690e+05],\n",
              "       [1.0000000e+00, 1.3461546e+05],\n",
              "       [1.0000000e+00, 1.3029813e+05],\n",
              "       [1.0000000e+00, 1.2054252e+05],\n",
              "       [1.0000000e+00, 1.2333488e+05],\n",
              "       [1.0000000e+00, 1.0191308e+05],\n",
              "       [1.0000000e+00, 1.0067196e+05],\n",
              "       [1.0000000e+00, 9.3863750e+04],\n",
              "       [1.0000000e+00, 9.1992390e+04],\n",
              "       [1.0000000e+00, 1.1994324e+05],\n",
              "       [1.0000000e+00, 1.1452361e+05],\n",
              "       [1.0000000e+00, 7.8013110e+04],\n",
              "       [1.0000000e+00, 9.4657160e+04],\n",
              "       [1.0000000e+00, 9.1749160e+04],\n",
              "       [1.0000000e+00, 8.6419700e+04],\n",
              "       [1.0000000e+00, 7.6253860e+04],\n",
              "       [1.0000000e+00, 7.8389470e+04],\n",
              "       [1.0000000e+00, 7.3994560e+04],\n",
              "       [1.0000000e+00, 6.7532530e+04],\n",
              "       [1.0000000e+00, 7.7044010e+04],\n",
              "       [1.0000000e+00, 6.4664710e+04],\n",
              "       [1.0000000e+00, 7.5328870e+04],\n",
              "       [1.0000000e+00, 7.2107600e+04],\n",
              "       [1.0000000e+00, 6.6051520e+04],\n",
              "       [1.0000000e+00, 6.5605480e+04],\n",
              "       [1.0000000e+00, 6.1994480e+04],\n",
              "       [1.0000000e+00, 6.1136380e+04],\n",
              "       [1.0000000e+00, 6.3408860e+04],\n",
              "       [1.0000000e+00, 5.5493950e+04],\n",
              "       [1.0000000e+00, 4.6426070e+04],\n",
              "       [1.0000000e+00, 4.6014020e+04],\n",
              "       [1.0000000e+00, 2.8663760e+04],\n",
              "       [1.0000000e+00, 4.4069950e+04],\n",
              "       [1.0000000e+00, 2.0229590e+04],\n",
              "       [1.0000000e+00, 3.8558510e+04],\n",
              "       [1.0000000e+00, 2.8754330e+04],\n",
              "       [1.0000000e+00, 2.7892920e+04],\n",
              "       [1.0000000e+00, 2.3640930e+04],\n",
              "       [1.0000000e+00, 1.5505730e+04],\n",
              "       [1.0000000e+00, 2.2177740e+04],\n",
              "       [1.0000000e+00, 1.0002300e+03],\n",
              "       [1.0000000e+00, 1.3154600e+03],\n",
              "       [1.0000000e+00, 0.0000000e+00],\n",
              "       [1.0000000e+00, 5.4205000e+02],\n",
              "       [1.0000000e+00, 0.0000000e+00]])"
            ]
          },
          "metadata": {},
          "execution_count": 18
        }
      ],
      "source": [
        "X_opt=X[:,[0]]\n",
        "X_opt = sm.add_constant(X_opt)\n",
        "X_opt"
      ]
    },
    {
      "cell_type": "code",
      "execution_count": null,
      "metadata": {
        "colab": {
          "base_uri": "https://localhost:8080/",
          "height": 480
        },
        "id": "LxxGfxISLWm8",
        "outputId": "a6089232-3c6c-44d1-d27c-4a014cc9aea5"
      },
      "outputs": [
        {
          "output_type": "execute_result",
          "data": {
            "text/plain": [
              "<class 'statsmodels.iolib.summary.Summary'>\n",
              "\"\"\"\n",
              "                            OLS Regression Results                            \n",
              "==============================================================================\n",
              "Dep. Variable:                      y   R-squared:                       0.947\n",
              "Model:                            OLS   Adj. R-squared:                  0.945\n",
              "Method:                 Least Squares   F-statistic:                     849.8\n",
              "Date:                Thu, 22 Feb 2024   Prob (F-statistic):           3.50e-32\n",
              "Time:                        14:43:10   Log-Likelihood:                -527.44\n",
              "No. Observations:                  50   AIC:                             1059.\n",
              "Df Residuals:                      48   BIC:                             1063.\n",
              "Df Model:                           1                                         \n",
              "Covariance Type:            nonrobust                                         \n",
              "==============================================================================\n",
              "                 coef    std err          t      P>|t|      [0.025      0.975]\n",
              "------------------------------------------------------------------------------\n",
              "contant     4.903e+04   2537.897     19.320      0.000    4.39e+04    5.41e+04\n",
              "R&D spend      0.8543      0.029     29.151      0.000       0.795       0.913\n",
              "==============================================================================\n",
              "Omnibus:                       13.727   Durbin-Watson:                   1.116\n",
              "Prob(Omnibus):                  0.001   Jarque-Bera (JB):               18.536\n",
              "Skew:                          -0.911   Prob(JB):                     9.44e-05\n",
              "Kurtosis:                       5.361   Cond. No.                     1.65e+05\n",
              "==============================================================================\n",
              "\n",
              "Notes:\n",
              "[1] Standard Errors assume that the covariance matrix of the errors is correctly specified.\n",
              "[2] The condition number is large, 1.65e+05. This might indicate that there are\n",
              "strong multicollinearity or other numerical problems.\n",
              "\"\"\""
            ],
            "text/html": [
              "<table class=\"simpletable\">\n",
              "<caption>OLS Regression Results</caption>\n",
              "<tr>\n",
              "  <th>Dep. Variable:</th>            <td>y</td>        <th>  R-squared:         </th> <td>   0.947</td>\n",
              "</tr>\n",
              "<tr>\n",
              "  <th>Model:</th>                   <td>OLS</td>       <th>  Adj. R-squared:    </th> <td>   0.945</td>\n",
              "</tr>\n",
              "<tr>\n",
              "  <th>Method:</th>             <td>Least Squares</td>  <th>  F-statistic:       </th> <td>   849.8</td>\n",
              "</tr>\n",
              "<tr>\n",
              "  <th>Date:</th>             <td>Thu, 22 Feb 2024</td> <th>  Prob (F-statistic):</th> <td>3.50e-32</td>\n",
              "</tr>\n",
              "<tr>\n",
              "  <th>Time:</th>                 <td>14:43:10</td>     <th>  Log-Likelihood:    </th> <td> -527.44</td>\n",
              "</tr>\n",
              "<tr>\n",
              "  <th>No. Observations:</th>      <td>    50</td>      <th>  AIC:               </th> <td>   1059.</td>\n",
              "</tr>\n",
              "<tr>\n",
              "  <th>Df Residuals:</th>          <td>    48</td>      <th>  BIC:               </th> <td>   1063.</td>\n",
              "</tr>\n",
              "<tr>\n",
              "  <th>Df Model:</th>              <td>     1</td>      <th>                     </th>     <td> </td>   \n",
              "</tr>\n",
              "<tr>\n",
              "  <th>Covariance Type:</th>      <td>nonrobust</td>    <th>                     </th>     <td> </td>   \n",
              "</tr>\n",
              "</table>\n",
              "<table class=\"simpletable\">\n",
              "<tr>\n",
              "      <td></td>         <th>coef</th>     <th>std err</th>      <th>t</th>      <th>P>|t|</th>  <th>[0.025</th>    <th>0.975]</th>  \n",
              "</tr>\n",
              "<tr>\n",
              "  <th>contant</th>   <td> 4.903e+04</td> <td> 2537.897</td> <td>   19.320</td> <td> 0.000</td> <td> 4.39e+04</td> <td> 5.41e+04</td>\n",
              "</tr>\n",
              "<tr>\n",
              "  <th>R&D spend</th> <td>    0.8543</td> <td>    0.029</td> <td>   29.151</td> <td> 0.000</td> <td>    0.795</td> <td>    0.913</td>\n",
              "</tr>\n",
              "</table>\n",
              "<table class=\"simpletable\">\n",
              "<tr>\n",
              "  <th>Omnibus:</th>       <td>13.727</td> <th>  Durbin-Watson:     </th> <td>   1.116</td>\n",
              "</tr>\n",
              "<tr>\n",
              "  <th>Prob(Omnibus):</th> <td> 0.001</td> <th>  Jarque-Bera (JB):  </th> <td>  18.536</td>\n",
              "</tr>\n",
              "<tr>\n",
              "  <th>Skew:</th>          <td>-0.911</td> <th>  Prob(JB):          </th> <td>9.44e-05</td>\n",
              "</tr>\n",
              "<tr>\n",
              "  <th>Kurtosis:</th>      <td> 5.361</td> <th>  Cond. No.          </th> <td>1.65e+05</td>\n",
              "</tr>\n",
              "</table><br/><br/>Notes:<br/>[1] Standard Errors assume that the covariance matrix of the errors is correctly specified.<br/>[2] The condition number is large, 1.65e+05. This might indicate that there are<br/>strong multicollinearity or other numerical problems."
            ],
            "text/latex": "\\begin{center}\n\\begin{tabular}{lclc}\n\\toprule\n\\textbf{Dep. Variable:}    &        y         & \\textbf{  R-squared:         } &     0.947   \\\\\n\\textbf{Model:}            &       OLS        & \\textbf{  Adj. R-squared:    } &     0.945   \\\\\n\\textbf{Method:}           &  Least Squares   & \\textbf{  F-statistic:       } &     849.8   \\\\\n\\textbf{Date:}             & Thu, 22 Feb 2024 & \\textbf{  Prob (F-statistic):} &  3.50e-32   \\\\\n\\textbf{Time:}             &     14:43:10     & \\textbf{  Log-Likelihood:    } &   -527.44   \\\\\n\\textbf{No. Observations:} &          50      & \\textbf{  AIC:               } &     1059.   \\\\\n\\textbf{Df Residuals:}     &          48      & \\textbf{  BIC:               } &     1063.   \\\\\n\\textbf{Df Model:}         &           1      & \\textbf{                     } &             \\\\\n\\textbf{Covariance Type:}  &    nonrobust     & \\textbf{                     } &             \\\\\n\\bottomrule\n\\end{tabular}\n\\begin{tabular}{lcccccc}\n                    & \\textbf{coef} & \\textbf{std err} & \\textbf{t} & \\textbf{P$> |$t$|$} & \\textbf{[0.025} & \\textbf{0.975]}  \\\\\n\\midrule\n\\textbf{contant}    &    4.903e+04  &     2537.897     &    19.320  &         0.000        &     4.39e+04    &     5.41e+04     \\\\\n\\textbf{R\\&D spend} &       0.8543  &        0.029     &    29.151  &         0.000        &        0.795    &        0.913     \\\\\n\\bottomrule\n\\end{tabular}\n\\begin{tabular}{lclc}\n\\textbf{Omnibus:}       & 13.727 & \\textbf{  Durbin-Watson:     } &    1.116  \\\\\n\\textbf{Prob(Omnibus):} &  0.001 & \\textbf{  Jarque-Bera (JB):  } &   18.536  \\\\\n\\textbf{Skew:}          & -0.911 & \\textbf{  Prob(JB):          } & 9.44e-05  \\\\\n\\textbf{Kurtosis:}      &  5.361 & \\textbf{  Cond. No.          } & 1.65e+05  \\\\\n\\bottomrule\n\\end{tabular}\n%\\caption{OLS Regression Results}\n\\end{center}\n\nNotes: \\newline\n [1] Standard Errors assume that the covariance matrix of the errors is correctly specified. \\newline\n [2] The condition number is large, 1.65e+05. This might indicate that there are \\newline\n strong multicollinearity or other numerical problems."
          },
          "metadata": {},
          "execution_count": 19
        }
      ],
      "source": [
        "MLR_ols = sm.OLS(y, X_opt).fit()\n",
        "MLR_ols.summary(xname=['contant','R&D spend'])"
      ]
    },
    {
      "cell_type": "markdown",
      "metadata": {
        "id": "mgr97EvBLWm8"
      },
      "source": [
        "# <span style=\"color:purple\">Build the final model</span>"
      ]
    },
    {
      "cell_type": "code",
      "execution_count": null,
      "metadata": {
        "colab": {
          "base_uri": "https://localhost:8080/"
        },
        "id": "exdBn7bWLWm8",
        "outputId": "f3aab8a4-bc4b-4a49-88c5-6ecf8fecabe1"
      },
      "outputs": [
        {
          "output_type": "execute_result",
          "data": {
            "text/plain": [
              "array([[165349.2 , 471784.1 ],\n",
              "       [162597.7 , 443898.53],\n",
              "       [153441.51, 407934.54],\n",
              "       [144372.41, 383199.62],\n",
              "       [142107.34, 366168.42],\n",
              "       [131876.9 , 362861.36],\n",
              "       [134615.46, 127716.82],\n",
              "       [130298.13, 323876.68],\n",
              "       [120542.52, 311613.29],\n",
              "       [123334.88, 304981.62],\n",
              "       [101913.08, 229160.95],\n",
              "       [100671.96, 249744.55],\n",
              "       [ 93863.75, 249839.44],\n",
              "       [ 91992.39, 252664.93],\n",
              "       [119943.24, 256512.92],\n",
              "       [114523.61, 261776.23],\n",
              "       [ 78013.11, 264346.06],\n",
              "       [ 94657.16, 282574.31],\n",
              "       [ 91749.16, 294919.57],\n",
              "       [ 86419.7 ,      0.  ],\n",
              "       [ 76253.86, 298664.47],\n",
              "       [ 78389.47, 299737.29],\n",
              "       [ 73994.56, 303319.26],\n",
              "       [ 67532.53, 304768.73],\n",
              "       [ 77044.01, 140574.81],\n",
              "       [ 64664.71, 137962.62],\n",
              "       [ 75328.87, 134050.07],\n",
              "       [ 72107.6 , 353183.81],\n",
              "       [ 66051.52, 118148.2 ],\n",
              "       [ 65605.48, 107138.38],\n",
              "       [ 61994.48,  91131.24],\n",
              "       [ 61136.38,  88218.23],\n",
              "       [ 63408.86,  46085.25],\n",
              "       [ 55493.95, 214634.81],\n",
              "       [ 46426.07, 210797.67],\n",
              "       [ 46014.02, 205517.64],\n",
              "       [ 28663.76, 201126.82],\n",
              "       [ 44069.95, 197029.42],\n",
              "       [ 20229.59, 185265.1 ],\n",
              "       [ 38558.51, 174999.3 ],\n",
              "       [ 28754.33, 172795.67],\n",
              "       [ 27892.92, 164470.71],\n",
              "       [ 23640.93, 148001.11],\n",
              "       [ 15505.73,  35534.17],\n",
              "       [ 22177.74,  28334.72],\n",
              "       [  1000.23,   1903.93],\n",
              "       [  1315.46, 297114.46],\n",
              "       [     0.  ,      0.  ],\n",
              "       [   542.05,      0.  ],\n",
              "       [     0.  ,  45173.06]])"
            ]
          },
          "metadata": {},
          "execution_count": 20
        }
      ],
      "source": [
        "X_final = X[:,[0,2]]\n",
        "X_final"
      ]
    },
    {
      "cell_type": "code",
      "execution_count": null,
      "metadata": {
        "id": "dEtgOYugLWm8"
      },
      "outputs": [],
      "source": [
        "from sklearn.model_selection import train_test_split\n",
        "X_train, X_test, y_train, y_test = train_test_split(X_final, y, test_size = 1/3, random_state = 0)\n",
        "\n",
        "from sklearn.linear_model import LinearRegression\n",
        "LR = LinearRegression()\n",
        "LR.fit(X_train, y_train)\n",
        "\n",
        "y_pred = LR.predict(X_test)"
      ]
    },
    {
      "cell_type": "code",
      "execution_count": null,
      "metadata": {
        "colab": {
          "base_uri": "https://localhost:8080/"
        },
        "id": "1YHgNabKLWnE",
        "outputId": "3cd7d129-1551-4390-8e5f-5ac36743cbe6"
      },
      "outputs": [
        {
          "output_type": "stream",
          "name": "stdout",
          "text": [
            "Train Score:  95.44855917548342 %\n",
            "Test Score:  92.8406870739455 %\n",
            "The coeficients:  [0.81924415 0.02698594]\n",
            "The y-intercept:  45766.26520877379\n"
          ]
        }
      ],
      "source": [
        "print('Train Score: ', LR.score(X_train, y_train)*100, \"%\")\n",
        "print('Test Score: ', LR.score(X_test, y_test)*100, \"%\")\n",
        "print(\"The coeficients: \", LR.coef_)\n",
        "print(\"The y-intercept: \", LR.intercept_)"
      ]
    }
  ],
  "metadata": {
    "kernelspec": {
      "display_name": "Python 3",
      "language": "python",
      "name": "python3"
    },
    "language_info": {
      "codemirror_mode": {
        "name": "ipython",
        "version": 3
      },
      "file_extension": ".py",
      "mimetype": "text/x-python",
      "name": "python",
      "nbconvert_exporter": "python",
      "pygments_lexer": "ipython3",
      "version": "3.8.3"
    },
    "colab": {
      "provenance": [],
      "include_colab_link": true
    }
  },
  "nbformat": 4,
  "nbformat_minor": 0
}