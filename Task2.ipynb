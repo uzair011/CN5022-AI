{
  "cells": [
    {
      "cell_type": "markdown",
      "metadata": {
        "id": "view-in-github",
        "colab_type": "text"
      },
      "source": [
        "<a href=\"https://colab.research.google.com/github/uzair011/CN5022-AI/blob/main/Task2.ipynb\" target=\"_parent\"><img src=\"https://colab.research.google.com/assets/colab-badge.svg\" alt=\"Open In Colab\"/></a>"
      ]
    },
    {
      "cell_type": "markdown",
      "metadata": {
        "id": "msJI0CKHFCns"
      },
      "source": [
        "# <span style=\"color:red\"> Objective: <span>\n",
        "Understanding the linear regression algorithm by constructing a linear regression model for a dataset. Analyse the results and provide comments and conclusions."
      ]
    },
    {
      "cell_type": "markdown",
      "metadata": {
        "id": "ox7J8eQgFCnt"
      },
      "source": [
        "# <span style=\"color:red\"> Instructions: <span>\n",
        "For this task, we will make use of the salary_data.csv in the dataset folder."
      ]
    },
    {
      "cell_type": "markdown",
      "metadata": {
        "id": "n2e88ZmIFCnt"
      },
      "source": [
        "#### **salary_data.csv**\n",
        "\n",
        "This dataset consists of one feature (independent variable), **YearsExperience** and one label (dependent variable), **Salary**. Depending on the years of working experience, the dataset provides the salary corresponding the experience.\n",
        "\n",
        "Now, you are required to develop a linear regression model in order to predict the salary of a new employee coming to the company with certain number of year of experience.\n",
        "\n",
        "Using Jupiter Notebook, open the notebook called **Task2.ipynb**:"
      ]
    },
    {
      "cell_type": "markdown",
      "metadata": {
        "id": "EQDOGlxvFCnu"
      },
      "source": [
        "### <span style=\"color:purple\"> a) Load the necessary libraries for the task<span>\n",
        "\n",
        "Notes: In this task, we will make use of the following libraries:\n",
        "1. numpy\n",
        "2. pandas\n",
        "3. matplotlib"
      ]
    },
    {
      "cell_type": "code",
      "execution_count": 1,
      "metadata": {
        "id": "29kC90TtFCnu"
      },
      "outputs": [],
      "source": [
        "# put your code here\n",
        "%matplotlib inline\n",
        "\n",
        "import matplotlib.pyplot as plt\n",
        "import pandas as pd\n",
        "import numpy as np\n",
        "\n",
        "from sklearn.model_selection import train_test_split\n",
        "from sklearn.linear_model import LinearRegression"
      ]
    },
    {
      "cell_type": "markdown",
      "metadata": {
        "id": "H6hFoblLFCnu"
      },
      "source": [
        "### <span style=\"color:purple\"> b) Now, we import this salary_data.csv file using the Pandas method, make sure that the dataset is in the same folder as your Task2.ipynb. Read the first 5 rows of the dataset for observation. <span>\n",
        "\n",
        "**Notes: refer to task one for an example.**"
      ]
    },
    {
      "cell_type": "code",
      "execution_count": 2,
      "metadata": {
        "colab": {
          "base_uri": "https://localhost:8080/"
        },
        "id": "mwL3fl5cFCnu",
        "outputId": "8586d84c-7049-4a15-c49e-9301701e6ab2"
      },
      "outputs": [
        {
          "output_type": "stream",
          "name": "stdout",
          "text": [
            "   YearsExperience  Salary\n",
            "0              1.1   39343\n",
            "1              1.3   46205\n",
            "2              1.5   37731\n",
            "3              2.0   43525\n",
            "4              2.2   39891\n"
          ]
        }
      ],
      "source": [
        "# put your code here\n",
        "df = pd.read_csv(\"salary_data.csv\") # import/load the data file\n",
        "\n",
        "print(df.head(5))"
      ]
    },
    {
      "cell_type": "markdown",
      "metadata": {
        "id": "0QKXm7qNFCnu"
      },
      "source": [
        "### <span style=\"color:purple\"> c) Split the dataset into X, the independent variable and y, the dependent variable / label <span>"
      ]
    },
    {
      "cell_type": "markdown",
      "metadata": {
        "id": "zmTWpNqrFCnu"
      },
      "source": [
        "Notes: The dataset is loaded in b) as a whole dataset. However, in order for us to develop a linear model, we need to splt the dataset into the independent variable, x and dependent variable y.\n",
        "\n",
        "Coding guide: In order to do so, we will make use of the Pandas function iloc for selecting, Boolean & Setting. This function have the the following syntax:"
      ]
    },
    {
      "cell_type": "raw",
      "metadata": {
        "id": "IzwP2DnxFCnu"
      },
      "source": [
        "data.iloc[<row selection>, <column selection>]"
      ]
    },
    {
      "cell_type": "markdown",
      "metadata": {
        "id": "1zYdBjqiFCnu"
      },
      "source": [
        "### **For example:**"
      ]
    },
    {
      "cell_type": "raw",
      "metadata": {
        "id": "UL-jDtRQFCnu"
      },
      "source": [
        "Single selections using iloc and DataFrame\n",
        "\n",
        "**# Rows:**\n",
        "data.iloc[0].values # first row of data frame - Note a Series data type output.\n",
        "data.iloc[1].values # second row of data frame\n",
        "data.iloc[-1].values # last row of data frame\n",
        "\n",
        "**# Columns:**\n",
        "data.iloc[:,0].values # first column of data frame\n",
        "data.iloc[:,1].values # second column of data frame\n",
        "data.iloc[:,-1].values # last column of data frame\n",
        "\n",
        "**# Multiple row and column selections using iloc and DataFrame**\n",
        "data.iloc[0:5].values # first five rows of dataframe\n",
        "data.iloc[:, 0:2].values # first two columns of data frame with all rows\n",
        "data.iloc[[0,3,6,24], [0,5,6]].values # 1st, 4th, 7th, 25th row + 1st 6th 7th columns.\n",
        "data.iloc[0:5, 5:8].values # first 5 rows and 5th, 6th, 7th columns of data frame\n",
        "\n",
        "** important\n",
        "For this task, we are getting all the colum, except the last column as X and last column as y\n",
        "for example:\n",
        "dataset.iloc[:, :-1].values # all collumns till the column before the last\n",
        "dataset.iloc[:, 1].values # last column of the data frame"
      ]
    },
    {
      "cell_type": "code",
      "execution_count": 3,
      "metadata": {
        "colab": {
          "base_uri": "https://localhost:8080/"
        },
        "id": "JoQk1KESFCnu",
        "outputId": "dd81a336-f36f-44b6-e07a-488fd4951ec7"
      },
      "outputs": [
        {
          "output_type": "stream",
          "name": "stdout",
          "text": [
            "[[ 1.1]\n",
            " [ 1.3]\n",
            " [ 1.5]\n",
            " [ 2. ]\n",
            " [ 2.2]\n",
            " [ 2.9]\n",
            " [ 3. ]\n",
            " [ 3.2]\n",
            " [ 3.2]\n",
            " [ 3.7]\n",
            " [ 3.9]\n",
            " [ 4. ]\n",
            " [ 4. ]\n",
            " [ 4.1]\n",
            " [ 4.5]\n",
            " [ 4.9]\n",
            " [ 5.1]\n",
            " [ 5.3]\n",
            " [ 5.9]\n",
            " [ 6. ]\n",
            " [ 6.8]\n",
            " [ 7.1]\n",
            " [ 7.9]\n",
            " [ 8.2]\n",
            " [ 8.7]\n",
            " [ 9. ]\n",
            " [ 9.5]\n",
            " [ 9.6]\n",
            " [10.3]\n",
            " [10.5]]\n",
            "(30, 1)\n",
            "\n",
            " [ 39343  46205  37731  43525  39891  56642  60150  54445  64445  57189\n",
            "  63218  55794  56957  57081  61111  67938  66029  83088  81363  93940\n",
            "  91738  98273 101302 113812 109431 105582 116969 112635 122391 121872]\n",
            "(30,)\n"
          ]
        }
      ],
      "source": [
        "# spliting the dataset into X,  the independent variable and y\n",
        "# put your code here\n",
        "\n",
        "# X = df.iloc[:, 0].values # X= independent variable; select the whole column\n",
        "# y = df.iloc[:, 1].values # y=dependent variable; select the whole column\n",
        "\n",
        "X = df.iloc[:, :-1].values  # Independent variable(s)\n",
        "y = df.iloc[:, 1].values   # Dependent variable\n",
        "\n",
        "print(X)\n",
        "print(X.shape)\n",
        "print(\"\\n\",y)\n",
        "print(y.shape)"
      ]
    },
    {
      "cell_type": "markdown",
      "metadata": {
        "id": "LyFrSNZ8FCnu"
      },
      "source": [
        "### <span style=\"color:purple\"> d) Split the X and y into training and test set using method in sklearn package. <span>"
      ]
    },
    {
      "cell_type": "code",
      "source": [
        "help(train_test_split)"
      ],
      "metadata": {
        "colab": {
          "base_uri": "https://localhost:8080/"
        },
        "id": "tBDhJJHjNM8V",
        "outputId": "0978b8a7-3d8f-4d7a-ff9c-3cc0328429a9"
      },
      "execution_count": 4,
      "outputs": [
        {
          "output_type": "stream",
          "name": "stdout",
          "text": [
            "Help on function train_test_split in module sklearn.model_selection._split:\n",
            "\n",
            "train_test_split(*arrays, test_size=None, train_size=None, random_state=None, shuffle=True, stratify=None)\n",
            "    Split arrays or matrices into random train and test subsets.\n",
            "    \n",
            "    Quick utility that wraps input validation,\n",
            "    ``next(ShuffleSplit().split(X, y))``, and application to input data\n",
            "    into a single call for splitting (and optionally subsampling) data into a\n",
            "    one-liner.\n",
            "    \n",
            "    Read more in the :ref:`User Guide <cross_validation>`.\n",
            "    \n",
            "    Parameters\n",
            "    ----------\n",
            "    *arrays : sequence of indexables with same length / shape[0]\n",
            "        Allowed inputs are lists, numpy arrays, scipy-sparse\n",
            "        matrices or pandas dataframes.\n",
            "    \n",
            "    test_size : float or int, default=None\n",
            "        If float, should be between 0.0 and 1.0 and represent the proportion\n",
            "        of the dataset to include in the test split. If int, represents the\n",
            "        absolute number of test samples. If None, the value is set to the\n",
            "        complement of the train size. If ``train_size`` is also None, it will\n",
            "        be set to 0.25.\n",
            "    \n",
            "    train_size : float or int, default=None\n",
            "        If float, should be between 0.0 and 1.0 and represent the\n",
            "        proportion of the dataset to include in the train split. If\n",
            "        int, represents the absolute number of train samples. If None,\n",
            "        the value is automatically set to the complement of the test size.\n",
            "    \n",
            "    random_state : int, RandomState instance or None, default=None\n",
            "        Controls the shuffling applied to the data before applying the split.\n",
            "        Pass an int for reproducible output across multiple function calls.\n",
            "        See :term:`Glossary <random_state>`.\n",
            "    \n",
            "    shuffle : bool, default=True\n",
            "        Whether or not to shuffle the data before splitting. If shuffle=False\n",
            "        then stratify must be None.\n",
            "    \n",
            "    stratify : array-like, default=None\n",
            "        If not None, data is split in a stratified fashion, using this as\n",
            "        the class labels.\n",
            "        Read more in the :ref:`User Guide <stratification>`.\n",
            "    \n",
            "    Returns\n",
            "    -------\n",
            "    splitting : list, length=2 * len(arrays)\n",
            "        List containing train-test split of inputs.\n",
            "    \n",
            "        .. versionadded:: 0.16\n",
            "            If the input is sparse, the output will be a\n",
            "            ``scipy.sparse.csr_matrix``. Else, output type is the same as the\n",
            "            input type.\n",
            "    \n",
            "    Examples\n",
            "    --------\n",
            "    >>> import numpy as np\n",
            "    >>> from sklearn.model_selection import train_test_split\n",
            "    >>> X, y = np.arange(10).reshape((5, 2)), range(5)\n",
            "    >>> X\n",
            "    array([[0, 1],\n",
            "           [2, 3],\n",
            "           [4, 5],\n",
            "           [6, 7],\n",
            "           [8, 9]])\n",
            "    >>> list(y)\n",
            "    [0, 1, 2, 3, 4]\n",
            "    \n",
            "    >>> X_train, X_test, y_train, y_test = train_test_split(\n",
            "    ...     X, y, test_size=0.33, random_state=42)\n",
            "    ...\n",
            "    >>> X_train\n",
            "    array([[4, 5],\n",
            "           [0, 1],\n",
            "           [6, 7]])\n",
            "    >>> y_train\n",
            "    [2, 0, 3]\n",
            "    >>> X_test\n",
            "    array([[2, 3],\n",
            "           [8, 9]])\n",
            "    >>> y_test\n",
            "    [1, 4]\n",
            "    \n",
            "    >>> train_test_split(y, shuffle=False)\n",
            "    [[0, 1, 2], [3, 4]]\n",
            "\n"
          ]
        }
      ]
    },
    {
      "cell_type": "code",
      "execution_count": 10,
      "metadata": {
        "colab": {
          "base_uri": "https://localhost:8080/"
        },
        "id": "1tda2hsTFCnv",
        "outputId": "dcc13c0c-eeee-4a40-ef29-2381ddd74863"
      },
      "outputs": [
        {
          "output_type": "stream",
          "name": "stdout",
          "text": [
            "[[ 1.1]\n",
            " [ 2.2]\n",
            " [ 5.1]\n",
            " [ 2.9]\n",
            " [ 4.1]\n",
            " [ 4. ]\n",
            " [ 7.9]\n",
            " [ 1.3]\n",
            " [ 1.5]\n",
            " [ 9. ]\n",
            " [ 2. ]\n",
            " [ 7.1]\n",
            " [ 9.5]\n",
            " [ 5.9]\n",
            " [10.5]\n",
            " [ 6.8]\n",
            " [ 3.2]\n",
            " [ 3.9]\n",
            " [ 4.5]\n",
            " [ 6. ]\n",
            " [ 3. ]]\n",
            "[[ 9.6]\n",
            " [ 4.9]\n",
            " [ 8.2]\n",
            " [ 5.3]\n",
            " [ 3.2]\n",
            " [ 3.7]\n",
            " [10.3]\n",
            " [ 8.7]\n",
            " [ 4. ]]\n",
            "[ 39343  39891  66029  56642  57081  55794 101302  46205  37731 105582\n",
            "  43525  98273 116969  81363 121872  91738  54445  63218  61111  93940\n",
            "  60150]\n",
            "[112635  67938 113812  83088  64445  57189 122391 109431  56957]\n"
          ]
        }
      ],
      "source": [
        "#split X and Y into training and testing set using method\n",
        "# put your code here\n",
        "\n",
        "X_train, X_test, y_train, y_test = train_test_split(X, y, test_size=0.3, random_state=42)\n",
        "\n",
        "print(X_train)\n",
        "print(X_test)\n",
        "print(y_train)\n",
        "print(y_test)"
      ]
    },
    {
      "cell_type": "markdown",
      "metadata": {
        "id": "89lq6ja2FCnv"
      },
      "source": [
        "### <span style=\"color:purple\"> e) Generate a linear regression model, called regressor, using the training set <span>\n",
        "**(Hints: Use the LinearRegression class in the sklearn.linear_model package)**"
      ]
    },
    {
      "cell_type": "code",
      "execution_count": 12,
      "metadata": {
        "colab": {
          "base_uri": "https://localhost:8080/",
          "height": 74
        },
        "id": "ROFxnATgFCnv",
        "outputId": "d265f225-ee70-44c6-b364-60c2d4252e79"
      },
      "outputs": [
        {
          "output_type": "execute_result",
          "data": {
            "text/plain": [
              "LinearRegression()"
            ],
            "text/html": [
              "<style>#sk-container-id-2 {color: black;background-color: white;}#sk-container-id-2 pre{padding: 0;}#sk-container-id-2 div.sk-toggleable {background-color: white;}#sk-container-id-2 label.sk-toggleable__label {cursor: pointer;display: block;width: 100%;margin-bottom: 0;padding: 0.3em;box-sizing: border-box;text-align: center;}#sk-container-id-2 label.sk-toggleable__label-arrow:before {content: \"▸\";float: left;margin-right: 0.25em;color: #696969;}#sk-container-id-2 label.sk-toggleable__label-arrow:hover:before {color: black;}#sk-container-id-2 div.sk-estimator:hover label.sk-toggleable__label-arrow:before {color: black;}#sk-container-id-2 div.sk-toggleable__content {max-height: 0;max-width: 0;overflow: hidden;text-align: left;background-color: #f0f8ff;}#sk-container-id-2 div.sk-toggleable__content pre {margin: 0.2em;color: black;border-radius: 0.25em;background-color: #f0f8ff;}#sk-container-id-2 input.sk-toggleable__control:checked~div.sk-toggleable__content {max-height: 200px;max-width: 100%;overflow: auto;}#sk-container-id-2 input.sk-toggleable__control:checked~label.sk-toggleable__label-arrow:before {content: \"▾\";}#sk-container-id-2 div.sk-estimator input.sk-toggleable__control:checked~label.sk-toggleable__label {background-color: #d4ebff;}#sk-container-id-2 div.sk-label input.sk-toggleable__control:checked~label.sk-toggleable__label {background-color: #d4ebff;}#sk-container-id-2 input.sk-hidden--visually {border: 0;clip: rect(1px 1px 1px 1px);clip: rect(1px, 1px, 1px, 1px);height: 1px;margin: -1px;overflow: hidden;padding: 0;position: absolute;width: 1px;}#sk-container-id-2 div.sk-estimator {font-family: monospace;background-color: #f0f8ff;border: 1px dotted black;border-radius: 0.25em;box-sizing: border-box;margin-bottom: 0.5em;}#sk-container-id-2 div.sk-estimator:hover {background-color: #d4ebff;}#sk-container-id-2 div.sk-parallel-item::after {content: \"\";width: 100%;border-bottom: 1px solid gray;flex-grow: 1;}#sk-container-id-2 div.sk-label:hover label.sk-toggleable__label {background-color: #d4ebff;}#sk-container-id-2 div.sk-serial::before {content: \"\";position: absolute;border-left: 1px solid gray;box-sizing: border-box;top: 0;bottom: 0;left: 50%;z-index: 0;}#sk-container-id-2 div.sk-serial {display: flex;flex-direction: column;align-items: center;background-color: white;padding-right: 0.2em;padding-left: 0.2em;position: relative;}#sk-container-id-2 div.sk-item {position: relative;z-index: 1;}#sk-container-id-2 div.sk-parallel {display: flex;align-items: stretch;justify-content: center;background-color: white;position: relative;}#sk-container-id-2 div.sk-item::before, #sk-container-id-2 div.sk-parallel-item::before {content: \"\";position: absolute;border-left: 1px solid gray;box-sizing: border-box;top: 0;bottom: 0;left: 50%;z-index: -1;}#sk-container-id-2 div.sk-parallel-item {display: flex;flex-direction: column;z-index: 1;position: relative;background-color: white;}#sk-container-id-2 div.sk-parallel-item:first-child::after {align-self: flex-end;width: 50%;}#sk-container-id-2 div.sk-parallel-item:last-child::after {align-self: flex-start;width: 50%;}#sk-container-id-2 div.sk-parallel-item:only-child::after {width: 0;}#sk-container-id-2 div.sk-dashed-wrapped {border: 1px dashed gray;margin: 0 0.4em 0.5em 0.4em;box-sizing: border-box;padding-bottom: 0.4em;background-color: white;}#sk-container-id-2 div.sk-label label {font-family: monospace;font-weight: bold;display: inline-block;line-height: 1.2em;}#sk-container-id-2 div.sk-label-container {text-align: center;}#sk-container-id-2 div.sk-container {/* jupyter's `normalize.less` sets `[hidden] { display: none; }` but bootstrap.min.css set `[hidden] { display: none !important; }` so we also need the `!important` here to be able to override the default hidden behavior on the sphinx rendered scikit-learn.org. See: https://github.com/scikit-learn/scikit-learn/issues/21755 */display: inline-block !important;position: relative;}#sk-container-id-2 div.sk-text-repr-fallback {display: none;}</style><div id=\"sk-container-id-2\" class=\"sk-top-container\"><div class=\"sk-text-repr-fallback\"><pre>LinearRegression()</pre><b>In a Jupyter environment, please rerun this cell to show the HTML representation or trust the notebook. <br />On GitHub, the HTML representation is unable to render, please try loading this page with nbviewer.org.</b></div><div class=\"sk-container\" hidden><div class=\"sk-item\"><div class=\"sk-estimator sk-toggleable\"><input class=\"sk-toggleable__control sk-hidden--visually\" id=\"sk-estimator-id-2\" type=\"checkbox\" checked><label for=\"sk-estimator-id-2\" class=\"sk-toggleable__label sk-toggleable__label-arrow\">LinearRegression</label><div class=\"sk-toggleable__content\"><pre>LinearRegression()</pre></div></div></div></div></div>"
            ]
          },
          "metadata": {},
          "execution_count": 12
        }
      ],
      "source": [
        "# generate linear regression model\n",
        "# put your code here\n",
        "\n",
        "model_0 = LinearRegression(fit_intercept=True)\n",
        "model_0.fit(X_train, y_train)\n",
        "\n",
        "model_0"
      ]
    },
    {
      "cell_type": "markdown",
      "metadata": {
        "id": "fi5mdB2nFCnv"
      },
      "source": [
        "### <span style=\"color:purple\">f) Predict the test set results <span>"
      ]
    },
    {
      "cell_type": "code",
      "execution_count": 13,
      "metadata": {
        "colab": {
          "base_uri": "https://localhost:8080/"
        },
        "id": "tRjGbTNSFCnv",
        "outputId": "88ec6b33-123f-4e17-f080-de613770038e"
      },
      "outputs": [
        {
          "output_type": "execute_result",
          "data": {
            "text/plain": [
              "array([115573.62288352,  71679.93878159, 102498.90847018,  75415.57147111,\n",
              "        55803.4998511 ,  60473.04071301, 122110.98009019, 107168.44933209,\n",
              "        63274.76523015])"
            ]
          },
          "metadata": {},
          "execution_count": 13
        }
      ],
      "source": [
        "# predit test set result\n",
        "# put your code here\n",
        "\n",
        "model_0.predict(X_test)"
      ]
    },
    {
      "cell_type": "markdown",
      "metadata": {
        "id": "GtoYMLeXFCnv"
      },
      "source": [
        "### <span style=\"color:purple\"> g) Visualise the training set results using a scatterplot, using the following code: <span>"
      ]
    },
    {
      "cell_type": "raw",
      "metadata": {
        "id": "fZjYA7F7FCnv"
      },
      "source": [
        "plt.scatter(X_train, y_train, color = 'red')\n",
        "plt.plot(X_train, regressor.predict(X_train), color = 'blue')\n",
        "plt.title('Salary vs Experience (Training set)')\n",
        "plt.xlabel('Years of Experience')\n",
        "plt.ylabel('Salary')\n",
        "plt.show()"
      ]
    },
    {
      "cell_type": "code",
      "execution_count": 14,
      "metadata": {
        "colab": {
          "base_uri": "https://localhost:8080/",
          "height": 472
        },
        "id": "GEO5Xx5AFCnv",
        "outputId": "508d6733-0059-414d-badc-5653fd4dc6e2"
      },
      "outputs": [
        {
          "output_type": "display_data",
          "data": {
            "text/plain": [
              "<Figure size 640x480 with 1 Axes>"
            ],
            "image/png": "[encoded data removed]"
          },
          "metadata": {}
        }
      ],
      "source": [
        "# Visualising the Training set results using scatterplot\n",
        "# put your code here\n",
        "\n",
        "plt.scatter(X_train, y_train, color = 'red')\n",
        "plt.plot(X_train, model_0.predict(X_train), color = 'blue')\n",
        "plt.title('Salary vs Experience (Training set)')\n",
        "plt.xlabel('Years of Experience')\n",
        "plt.ylabel('Salary')\n",
        "plt.show()"
      ]
    },
    {
      "cell_type": "markdown",
      "metadata": {
        "id": "rv6MghLcFCnv"
      },
      "source": [
        "### <span style=\"color:purple\"> h) Modify the code above to visualise the test set results using a scatterplot <span>"
      ]
    },
    {
      "cell_type": "code",
      "execution_count": 16,
      "metadata": {
        "colab": {
          "base_uri": "https://localhost:8080/",
          "height": 472
        },
        "id": "Rlbus-VaFCnv",
        "outputId": "fe69b3d3-d06e-4658-b5ec-ed567795b99a"
      },
      "outputs": [
        {
          "output_type": "display_data",
          "data": {
            "text/plain": [
              "<Figure size 640x480 with 1 Axes>"
            ],
            "image/png": "[encoded data removed]"
          },
          "metadata": {}
        }
      ],
      "source": [
        "# Visualising the Test set results using scatterplot\n",
        "# put your code here\n",
        "\n",
        "\n",
        "plt.scatter(X_test, y_test, color = 'red')\n",
        "plt.plot(X_train, model_0.predict(X_train), color = 'blue')\n",
        "plt.title('Salary vs Experience (Testing set)')\n",
        "plt.xlabel('Years of Experience')\n",
        "plt.ylabel('Salary')\n",
        "plt.show()"
      ]
    },
    {
      "cell_type": "markdown",
      "metadata": {
        "id": "1T76Ma0wFCnv"
      },
      "source": [
        "### <span style=\"color:purple\"> Question 1: From the plots, what is the estimated salary for a new employee with 8 years’ experience? <span>"
      ]
    },
    {
      "cell_type": "markdown",
      "metadata": {
        "id": "ocfbpOWLFCnv"
      },
      "source": [
        "The estimated salary for a new employee with 8 year's experience is between ___________________"
      ]
    },
    {
      "cell_type": "markdown",
      "metadata": {
        "id": "o0JgVp37FCnv"
      },
      "source": [
        "### <span style=\"color:purple\"> Upload the Task2.html file to Moodle via the submission link<span>"
      ]
    }
  ],
  "metadata": {
    "kernelspec": {
      "display_name": "Python 3",
      "language": "python",
      "name": "python3"
    },
    "language_info": {
      "codemirror_mode": {
        "name": "ipython",
        "version": 3
      },
      "file_extension": ".py",
      "mimetype": "text/x-python",
      "name": "python",
      "nbconvert_exporter": "python",
      "pygments_lexer": "ipython3",
      "version": "3.8.3"
    },
    "colab": {
      "provenance": [],
      "include_colab_link": true
    }
  },
  "nbformat": 4,
  "nbformat_minor": 0
}